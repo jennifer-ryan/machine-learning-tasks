{
 "cells": [
  {
   "cell_type": "markdown",
   "metadata": {
    "toc": true
   },
   "source": [
    "<h1>Table of Contents<span class=\"tocSkip\"></span></h1>\n",
    "<div class=\"toc\"><ul class=\"toc-item\"></ul></div>"
   ]
  },
  {
   "cell_type": "markdown",
   "metadata": {},
   "source": [
    "Write a Python function called sqrt2 that calculates and prints to the screen the square root of 2 to 100 decimal places. Your code should not depend on any module from the standard library1 or otherwise. You should research the task first and include references and a description of your algorithm."
   ]
  },
  {
   "cell_type": "markdown",
   "metadata": {},
   "source": [
    "From Ian's video:\n",
    "math.sqrt\n",
    "https://docs.python.org/3/tutorial/floatingpoint.html\n",
    "numpy\n",
    "np.sqrt()\n",
    "matplotlib.pyplot\n",
    "https://tour.golang.org/flowcontrol/8 Newtons method\n",
    "https://www.mathjax.org/ - built in to jupyter notebook (LaTeX math symbols)"
   ]
  },
  {
   "cell_type": "markdown",
   "metadata": {},
   "source": [
    "https://catonmat.net/tools/generate-sqrt2-digits\n",
    "Root 2 to 100 decimal places:\n",
    "1.4142135623730950488016887242096980785696718753769480731766797379907324784621070388503875343276415727"
   ]
  },
  {
   "cell_type": "markdown",
   "metadata": {},
   "source": [
    "The square root of 2 is also known as the one-half power of 2 https://en.wikipedia.org/wiki/Square_root_of_2\n",
    "\n",
    "http://mathforum.org/library/drmath/view/65402.html\n",
    "Proof:\n",
    "(x^1/2) * (x^1/2) = x^(1/2 + 1/2) = x^1\n",
    "\n",
    "However, when calculating the exponent below, Python returns the answer to just 16 decimal places, not the 100 required. "
   ]
  },
  {
   "cell_type": "code",
   "execution_count": 1,
   "metadata": {},
   "outputs": [
    {
     "data": {
      "text/plain": [
       "1.4142135623730951"
      ]
     },
     "execution_count": 1,
     "metadata": {},
     "output_type": "execute_result"
    }
   ],
   "source": [
    "2 ** .5"
   ]
  },
  {
   "cell_type": "markdown",
   "metadata": {},
   "source": [
    "This is due to the difficulty of computing floating point numbers https://docs.python.org/3.4/tutorial/floatingpoint.html, an issue that is not limited to the Python programming language. "
   ]
  },
  {
   "cell_type": "markdown",
   "metadata": {},
   "source": [
    "Figure out Newton Method of calculating square root.\n",
    "Note example below different from the 2**.5 above. According to wiki the first few digits are https://catonmat.net/tools/generate-sqrt2-digits root 2 to 100 digits is 1.4142135623730950, which makes the above exponent calculation more accurate than the code below. "
   ]
  },
  {
   "cell_type": "code",
   "execution_count": 4,
   "metadata": {},
   "outputs": [
    {
     "data": {
      "text/plain": [
       "1.4142135623746899"
      ]
     },
     "execution_count": 4,
     "metadata": {},
     "output_type": "execute_result"
    }
   ],
   "source": [
    "# https://hackernoon.com/calculating-the-square-root-of-a-number-using-the-newton-raphson-method-a-how-to-guide-yr4e32zo\n",
    "def mySqrt(x):\n",
    "\n",
    "    r = x\n",
    "    precision = 10 ** (-10)\n",
    "    \n",
    "    while abs(x - r * r) > precision:\n",
    "        r = (r + x / r) / 2\n",
    "        \n",
    "    return r\n",
    "\n",
    "mySqrt(2)"
   ]
  },
  {
   "cell_type": "markdown",
   "metadata": {},
   "source": [
    "Another method to overcome the floating point number limitations is to perform the calculation digit-by-digit\n",
    "https://en.wikipedia.org/wiki/Methods_of_computing_square_roots#Digit-by-digit_calculation\n"
   ]
  },
  {
   "cell_type": "markdown",
   "metadata": {},
   "source": [
    "The function below (taken from https://stackoverflow.com/a/5189881) works by first multiplying the number by 10^2(no. of decimal places required) and then getting the integer square root of that number\n"
   ]
  },
  {
   "cell_type": "code",
   "execution_count": 17,
   "metadata": {},
   "outputs": [
    {
     "name": "stdout",
     "output_type": "stream",
     "text": [
      "14142135623730950488016887242096980785696718753769480731766797379907324784621070388503875343276415727\n"
     ]
    },
    {
     "data": {
      "text/plain": [
       "101"
      ]
     },
     "execution_count": 17,
     "metadata": {},
     "output_type": "execute_result"
    }
   ],
   "source": [
    "def sqroot(a, digits):\n",
    "    a = a * (10**(2*digits))\n",
    "    x_prev = 0\n",
    "    x_next = 1 * (10**digits)\n",
    "    while x_prev != x_next:\n",
    "        x_prev = x_next\n",
    "        x_next = (x_prev + (a // x_prev)) >> 1\n",
    "    return x_next\n",
    "\n",
    "x = sqroot(2, 100)\n",
    "print(x)\n",
    "len(str(x))\n"
   ]
  },
  {
   "cell_type": "markdown",
   "metadata": {},
   "source": [
    "Don't really understand above so trying to follow the algorithm section here: https://www.homeschoolmath.net/teaching/square-root-algorithm.php with help from https://www.youtube.com/watch?v=50oan6UYrX4&feature=emb_logo&ab_channel=SchoolMathsByThomasAnthikat\n",
    " \n",
    "- This method uses number pairs to solve the square root so 2 would need to be written as 02.00000 (number of zeroes after decimal depends on how many decimal places you want in the answer. Each number pair represents a single digit in the solution\n",
    "    - so 02.00 00 00 would give 4 digits of the solution (1.414)\n",
    "    - this is why the code above has 2 * digits\n",
    "    - it is multiplied by 10 to avoid working with floats\n",
    "    \n"
   ]
  },
  {
   "cell_type": "code",
   "execution_count": 20,
   "metadata": {},
   "outputs": [
    {
     "name": "stdout",
     "output_type": "stream",
     "text": [
      "1\n"
     ]
    }
   ],
   "source": [
    "# find number whose square <=  2. This is the first number in the square root\n",
    "x = int(2**.5)\n",
    "\n",
    "# square that number and subtract from 2\n",
    "y = 2-(x*x)\n",
    "print(y)\n",
    "\n",
    "# Double the "
   ]
  },
  {
   "cell_type": "markdown",
   "metadata": {},
   "source": [
    "Manually working through code \n",
    "\n",
    "def sqroot(2, 4):\n",
    "    a = a * (10**(2*digits))                        a = 200000000   \n",
    "    x_prev = 0                                      x_prev = 0              \n",
    "    x_next = 1 * (10**digits)                       x_next = 10000          \n",
    "    while x_prev != x_next:             \n",
    "        x_prev = x_next                             x_prev = 10000   x_prev = 15000   x_prev = 14166   x_prev = 14142\n",
    "        x_next = (x_prev + (a // x_prev)) >> 1      x_next = 15000   x_next = 14166   x_next = 14142   x_next = 14142\n",
    "    return x_next\n"
   ]
  },
  {
   "cell_type": "code",
   "execution_count": 26,
   "metadata": {},
   "outputs": [
    {
     "data": {
      "text/plain": [
       "30000"
      ]
     },
     "execution_count": 26,
     "metadata": {},
     "output_type": "execute_result"
    }
   ],
   "source": [
    "10000 + (200000000//10000)"
   ]
  },
  {
   "cell_type": "code",
   "execution_count": 25,
   "metadata": {},
   "outputs": [
    {
     "data": {
      "text/plain": [
       "20000"
      ]
     },
     "execution_count": 25,
     "metadata": {},
     "output_type": "execute_result"
    }
   ],
   "source": [
    "200000000//10000"
   ]
  },
  {
   "cell_type": "code",
   "execution_count": 27,
   "metadata": {},
   "outputs": [
    {
     "data": {
      "text/plain": [
       "15000"
      ]
     },
     "execution_count": 27,
     "metadata": {},
     "output_type": "execute_result"
    }
   ],
   "source": [
    "30000>>1"
   ]
  },
  {
   "cell_type": "code",
   "execution_count": 31,
   "metadata": {},
   "outputs": [
    {
     "data": {
      "text/plain": [
       "14142"
      ]
     },
     "execution_count": 31,
     "metadata": {},
     "output_type": "execute_result"
    }
   ],
   "source": [
    "(14142 + (200000000//14142)) >> 1"
   ]
  },
  {
   "cell_type": "code",
   "execution_count": null,
   "metadata": {},
   "outputs": [],
   "source": []
  }
 ],
 "metadata": {
  "kernelspec": {
   "display_name": "Python 3",
   "language": "python",
   "name": "python3"
  },
  "language_info": {
   "codemirror_mode": {
    "name": "ipython",
    "version": 3
   },
   "file_extension": ".py",
   "mimetype": "text/x-python",
   "name": "python",
   "nbconvert_exporter": "python",
   "pygments_lexer": "ipython3",
   "version": "3.8.3"
  },
  "toc": {
   "base_numbering": 1,
   "nav_menu": {},
   "number_sections": true,
   "sideBar": false,
   "skip_h1_title": true,
   "title_cell": "Table of Contents",
   "title_sidebar": "Contents",
   "toc_cell": true,
   "toc_position": {},
   "toc_section_display": true,
   "toc_window_display": false
  }
 },
 "nbformat": 4,
 "nbformat_minor": 4
}
