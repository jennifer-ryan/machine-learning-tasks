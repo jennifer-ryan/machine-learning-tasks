{
 "cells": [
  {
   "cell_type": "markdown",
   "metadata": {},
   "source": [
    "<h1>1. Square Root 2</h1>\n",
    "\n",
    "Task: Write a Python function called sqrt2 that calculates and prints to the screen the square root of 2 to 100 decimal places. Your code should not depend on any module from the standard library or otherwise. You should research the task first and include references and a description of your algorithm.\n",
    "\n",
    "______________\n"
   ]
  },
  {
   "cell_type": "markdown",
   "metadata": {},
   "source": [
    "The square root of 2 to 100 decimal places is\n",
    "\n",
    "1.4142135623730950488016887242096980785696718753769480731766797379907324784621070388503875343276415727 \n",
    "\n",
    "(according to https://catonmat.net/tools/generate-sqrt2-digits and https://apod.nasa.gov/htmltest/gifcity/sqrt2.1mil)\n",
    "\n",
    "There are several methods in Python that can be used to calculate a square root, but these need to be imported from modules such as *math* or *numpy*. However, the square root of 2 can also be calculated as the one-half power of 2 (https://en.wikipedia.org/wiki/Square_root_of_2) since\n",
    "\n",
    "$${x^\\frac{1}{2} * x^\\frac{1}{2}  = x^\\frac{1+1}{2}  = x^1}$$ (http://mathforum.org/library/drmath/view/65402.html)\n",
    "\n",
    "Thus it can be simply calculated as follows:"
   ]
  },
  {
   "cell_type": "code",
   "execution_count": 31,
   "metadata": {},
   "outputs": [
    {
     "data": {
      "text/plain": [
       "1.4142135623730951"
      ]
     },
     "execution_count": 31,
     "metadata": {},
     "output_type": "execute_result"
    }
   ],
   "source": [
    "# Calculating square root 2 with half exponent\n",
    "exp_half = 2 ** .5\n",
    "exp_half"
   ]
  },
  {
   "cell_type": "markdown",
   "metadata": {},
   "source": [
    "This gives the square root of 2 without using any imported libraries but the returned value doesn't satisfy the requirement of 100 decimal places and the final 16th digit is a 1 rather than the expected 0. Perhaps this could simply be reformatted to display 100 decimal places.  "
   ]
  },
  {
   "cell_type": "code",
   "execution_count": 32,
   "metadata": {},
   "outputs": [
    {
     "data": {
      "text/plain": [
       "'1.4142135623730951454746218587388284504413604736328125000000000000000000000000000000000000000000000000'"
      ]
     },
     "execution_count": 32,
     "metadata": {},
     "output_type": "execute_result"
    }
   ],
   "source": [
    "# Formatting to 100 decimal places\n",
    "\"{:.100f}\".format(exp_half)"
   ]
  },
  {
   "cell_type": "markdown",
   "metadata": {},
   "source": [
    "While more decimal places are returned here, they appear to become incorrect after the 15<sup>th</sup> digit. This is due to the difficulty of computing floating point numbers, compounded by the fact that root 2 is an irrational number, seemingly infinite with no repeating pattern. \n",
    "\n",
    "Binary expresses real numbers in base 2 and so decimal fractions are expressed as base 2 fractions. If the denominator of the decimal fraction to be expressed is a power of 2, they can be represented accurately (https://stackoverflow.com/a/588014) but other numbers can only be approximated and rounding errors are inherent to their calculation  (https://docs.oracle.com/cd/E19957-01/806-3568/ncg_goldberg.html). \n",
    "\n",
    "The example below demonstrates these errors. While 1.5 - 1.0 == 0.5 returns as True, 1.2 - 1.0 == 0.2 returns as False. This is because 0.5 = 1/2 so the denominator can be expressed as a power of 2 but 0.2 = 1/5, which cannot be represented as a power of 2 and so this number can only be approximated. The estimation appears accurate at first but as the number of values after the decimal point increases, the precision decreases. The same thing happened in the calculation above - the values are correct up to the 15<sup>th</sup> digit but then become inaccurate."
   ]
  },
  {
   "cell_type": "code",
   "execution_count": 2,
   "metadata": {},
   "outputs": [
    {
     "name": "stdout",
     "output_type": "stream",
     "text": [
      "Is 1.5 - 1.0 == 0.5?\n",
      "True\n",
      "\n",
      "Is 1.2 - 1.0 == 0.2?\n",
      "False\n",
      "\n",
      "What is 1.2 - 1.0?\n",
      "0.19999999999999996\n",
      "\n",
      "Expressing 1.5 and 1.2 to 1 decimal place:\n",
      "1.5\n",
      "1.2\n",
      "\n",
      "Expressing 1.5 and 1.2 to 10 decimal places:\n",
      "1.5000000000\n",
      "1.2000000000\n",
      "\n",
      "Expressing 1.5 and 1.2 to 20 decimal placs:\n",
      "1.50000000000000000000\n",
      "1.19999999999999995559\n"
     ]
    }
   ],
   "source": [
    "# Demonstrating issues with floating point number calculations\n",
    "print(\"Is 1.5 - 1.0 == 0.5?\")\n",
    "print(1.5 - 1.0 == 0.5)\n",
    "print(\"\")\n",
    "\n",
    "print(\"Is 1.2 - 1.0 == 0.2?\")\n",
    "print(1.2 - 1.0 == 0.2)\n",
    "print(\"\")\n",
    "\n",
    "print(\"What is 1.2 - 1.0?\")\n",
    "print(1.2 - 1.0)\n",
    "print(\"\")\n",
    "\n",
    "print(\"Expressing 1.5 and 1.2 to 1 decimal place:\")\n",
    "print(1.5)\n",
    "print(1.2)\n",
    "print(\"\")\n",
    "\n",
    "print(\"Expressing 1.5 and 1.2 to 10 decimal places:\")\n",
    "print(\"{:.10f}\".format(1.5))\n",
    "print(\"{:.10f}\".format(1.2))\n",
    "print(\"\")\n",
    "\n",
    "print(\"Expressing 1.5 and 1.2 to 20 decimal placs:\")\n",
    "print(\"{:.20f}\".format(1.5))\n",
    "print(\"{:.20f}\".format(1.2))"
   ]
  },
  {
   "cell_type": "markdown",
   "metadata": {},
   "source": [
    "While the previous calculation of root 2 became inaccurate after a certain number of values, it looks like the program stopped calculating values altogether and returned only zeros after the 52<sup>nd</sup> digit.\n",
    "\n",
    "This is because there is a finite number of bits in which to store floating point numbers. Most machines today store floats in 53 bits, which is why the answer above ends with these trailing zeros. https://docs.python.org/3.4/tutorial/floatingpoint.html. It is not possible to store an irrational number such as root 2 in bits as it would require storing something infinite into a finite amount of space.   \n",
    "\n",
    "Since the issues arising here seem to come from the computational difficulty in calculating a floating point number, perhaps presenting the number 2 as a very large integer (2 with a lot of zeros) will bypass the issue. The returned value needs to have 100 decimal places so 200 zeros are tacked on to 2 and the square root of this number is calculated. Below uses the same method previously utilised to calculate the square root with a 0.5 exponent."
   ]
  },
  {
   "cell_type": "code",
   "execution_count": 34,
   "metadata": {},
   "outputs": [
    {
     "data": {
      "text/plain": [
       "1.414213562373095e+100"
      ]
     },
     "execution_count": 34,
     "metadata": {},
     "output_type": "execute_result"
    }
   ],
   "source": [
    "# Add 200 zeros to 2 to get integer square root \n",
    "large_int = 2* 10**200 \n",
    "exp_int = large_int ** .5\n",
    "\n",
    "exp_int"
   ]
  },
  {
   "cell_type": "markdown",
   "metadata": {},
   "source": [
    "The answer is so large that it's returned as an exponent. The number is formatted below to view it in its entirety, this time without specifying the number of decimal places as is should show an integer.  "
   ]
  },
  {
   "cell_type": "code",
   "execution_count": 35,
   "metadata": {},
   "outputs": [
    {
     "data": {
      "text/plain": [
       "'14142135623730950271424125632818586983491648817919875481779003888601306842716543030228210043498528768.000000'"
      ]
     },
     "execution_count": 35,
     "metadata": {},
     "output_type": "execute_result"
    }
   ],
   "source": [
    "# Format to view value above without exponent\n",
    "'{:f}'.format(exp_int)"
   ]
  },
  {
   "cell_type": "markdown",
   "metadata": {},
   "source": [
    "While this method appears to return the required number of digits, albeit in integer form, the values again become incorrect after the 15th digit. Because this method multiplies the large integer representation of 2 by a floating point number (0.5) to get the square root, the problems with computing floating point numbers again come into play. "
   ]
  },
  {
   "cell_type": "markdown",
   "metadata": {},
   "source": [
    "Looking at algorithmic options for calculating the square root may help to solve this issue. Some, such as the digit-by-digit long division method, is useful for manual calculation https://en.wikipedia.org/wiki/Methods_of_computing_square_roots#Digit-by-digit_calculation but makes for a long-winded computer program https://www.geeksforgeeks.org/long-division-method-to-find-square-root-with-examples/.    \n",
    "\n",
    "One of the most common algorithms, and one well suited to computation https://en.wikipedia.org/wiki/Methods_of_computing_square_roots, is Newton's Method  This works by calculating successively better approximations of the square root to find the correct answer https://en.wikipedia.org/wiki/Newton%27s_method. Starting with the original number (x), make an estimation of its square root (y) and then improve this by taking the mean of the old estimate (y) and the value of the original number divided by the estimate (x/y). The mean becomes the new estimate and the process is repeated until the equation is solved or the desired number of decimal places is achieved.   https://www.coursera.org/lecture/progfun1/lecture-1-5-example-square-roots-with-newtons-method-FQDE1 \n",
    "\n",
    "Using x=2 as an example, this would work out as follows\n",
    "\n",
    "\n",
    "|Estimate (y)   |New Estimate (y + x/y)/2   |\n",
    "|---|---|\n",
    "|1   |1.5   |\n",
    "|1.5   |1.4167   |\n",
    "|1.4167   |1.4142   |\n",
    "|....   |....   |"
   ]
  },
  {
   "cell_type": "markdown",
   "metadata": {},
   "source": [
    "The function below (modified from https://stackoverflow.com/a/5189881 with help from  https://stackoverflow.com/a/8646495) works by first multiplying the original number by 10 to the power of double the number of decimal places required, i.e. if we want 100 decimal places in our answer, we need 200 zeros tacked on to the number. The aim is to get an integer square root, similar to what was attempted above but with the Newtonian method. By using floor division to get the mean for each successive estimate, it avoids the use of floating point numbers altogether, and thus the issues that arise with them. The code continues to refine the estimation until the old and new estimates match, which occurs once the number of digits required is reached. The returned integer value is 101 digits long, including the number that will fall in front of the decimal. To present the final answer, the returned vale of this function is reformatted as a string to include a decimal point.    "
   ]
  },
  {
   "cell_type": "code",
   "execution_count": 36,
   "metadata": {},
   "outputs": [
    {
     "name": "stdout",
     "output_type": "stream",
     "text": [
      "14142135623730950488016887242096980785696718753769480731766797379907324784621070388503875343276415727\n",
      "\n",
      "Number of digits: 101\n",
      "\n",
      "Answer: 1.4142135623730950488016887242096980785696718753769480731766797379907324784621070388503875343276415727\n"
     ]
    }
   ],
   "source": [
    "# Square root function\n",
    "def sqrt2(a, digits):\n",
    "    # Create integer value for 2 with 200 zeroes (square root of which should be 100 zeroes)\n",
    "    a = a * (10**(2*digits))\n",
    "   \n",
    "    # Variables to hold old and new estimates\n",
    "    x_prev = 0                \n",
    "    x_next = 1 * (10**digits) # square estimate\n",
    "    \n",
    "    # Loop until old and new estimates are equal\n",
    "    while x_prev != x_next:    \n",
    "        # Old estimate becomes new estimate\n",
    "        x_prev = x_next \n",
    "        # Use floor division to perform Newtonian calculation to get the new estimate\n",
    "        x_next = (x_prev + (a // x_prev)) // 2 \n",
    "    return x_next\n",
    "\n",
    "# Running the code\n",
    "x = sqrt2(2, 100)\n",
    "print(x)\n",
    "print(\"\")\n",
    "\n",
    "# Reformatting integer to string to get length and add decimal\n",
    "x = str(x)\n",
    "print(\"Number of digits: \" + str(len(x)) +\"\\n\")\n",
    "print(\"Answer: \" + x[0]+\".\"+x[1:])"
   ]
  },
  {
   "cell_type": "markdown",
   "metadata": {},
   "source": [
    "***"
   ]
  },
  {
   "cell_type": "markdown",
   "metadata": {},
   "source": [
    "<h1>2. Chi Squared Test for Independence</h1>\n",
    "\n",
    "Task: The Chi-squared test for independence is a statistical hypothesis test like a t-test. It is used to analyse whether two categorical variables are independent. The Wikipedia article gives the table below as an example, stating the Chi-squared value based on it is approximately 24.6. Use scipy.stats to verify this value and calculate the associated p value. You should include a short note with references justifying your analysis in a markdown cell.\n",
    "\n",
    "|   |A   |B   |C   |D   |Total   |\n",
    "|---|---|---|---|---|---|\n",
    "|White Collar   |90   |60   |104   |95   |349   |\n",
    "|Blue Collar   |30   |50   |51   |20   |151   |\n",
    "|No Collar   |30   |40   |45   |35   |150   |\n",
    "|Total   |150   |150   |200   |150   |650   |\n",
    "\n",
    "___________\n"
   ]
  },
  {
   "cell_type": "markdown",
   "metadata": {},
   "source": [
    "There are certain criteria that data must meet to be suitable for Chi-squared testing. It should be random, categorical and drawn from a large enough sample of mutually exclusive independent variables such that every data point has a value greater than 5 https://www.investopedia.com/terms/c/chi-square-statistic.asp The above data satisfies these conditions: it takes a random sample of 650 people from a city of 1,000,000 and categorises each person based on their occupation (white collar, blue collar or no collar) and neighbourhood (A, B, C or D). These values are represented above in a contingency table, which has been recreated below as a pandas dataframe. "
   ]
  },
  {
   "cell_type": "code",
   "execution_count": 61,
   "metadata": {},
   "outputs": [
    {
     "data": {
      "text/html": [
       "<div>\n",
       "<style scoped>\n",
       "    .dataframe tbody tr th:only-of-type {\n",
       "        vertical-align: middle;\n",
       "    }\n",
       "\n",
       "    .dataframe tbody tr th {\n",
       "        vertical-align: top;\n",
       "    }\n",
       "\n",
       "    .dataframe thead th {\n",
       "        text-align: right;\n",
       "    }\n",
       "</style>\n",
       "<table border=\"1\" class=\"dataframe\">\n",
       "  <thead>\n",
       "    <tr style=\"text-align: right;\">\n",
       "      <th></th>\n",
       "      <th>A</th>\n",
       "      <th>B</th>\n",
       "      <th>C</th>\n",
       "      <th>D</th>\n",
       "    </tr>\n",
       "  </thead>\n",
       "  <tbody>\n",
       "    <tr>\n",
       "      <th>White Collar</th>\n",
       "      <td>90</td>\n",
       "      <td>60</td>\n",
       "      <td>104</td>\n",
       "      <td>95</td>\n",
       "    </tr>\n",
       "    <tr>\n",
       "      <th>Blue Collar</th>\n",
       "      <td>30</td>\n",
       "      <td>50</td>\n",
       "      <td>51</td>\n",
       "      <td>20</td>\n",
       "    </tr>\n",
       "    <tr>\n",
       "      <th>No Collar</th>\n",
       "      <td>30</td>\n",
       "      <td>40</td>\n",
       "      <td>45</td>\n",
       "      <td>35</td>\n",
       "    </tr>\n",
       "  </tbody>\n",
       "</table>\n",
       "</div>"
      ],
      "text/plain": [
       "               A   B    C   D\n",
       "White Collar  90  60  104  95\n",
       "Blue Collar   30  50   51  20\n",
       "No Collar     30  40   45  35"
      ]
     },
     "execution_count": 61,
     "metadata": {},
     "output_type": "execute_result"
    }
   ],
   "source": [
    "import numpy as np\n",
    "import pandas as pd\n",
    "import matplotlib.pyplot as plt\n",
    "\n",
    "# Creating dataframe to contain data\n",
    "values = np.array([[90, 60, 104, 95], [30, 50, 51, 20], [30, 40, 45, 35]])\n",
    "\n",
    "df = pd.DataFrame(values, index=[\"White Collar\", \"Blue Collar\", \"No Collar\"],\n",
    "                  columns=[\"A\", \"B\", \"C\", \"D\"])          \n",
    "df"
   ]
  },
  {
   "cell_type": "markdown",
   "metadata": {},
   "source": [
    "Since White Collar data is represented more than Blue and No Collar combined, the data is plotted below as a stacked bar chart to show the proportions of each."
   ]
  },
  {
   "cell_type": "code",
   "execution_count": 77,
   "metadata": {},
   "outputs": [
    {
     "data": {
      "text/plain": [
       "Text(0, 0.5, 'Frequency')"
      ]
     },
     "execution_count": 77,
     "metadata": {},
     "output_type": "execute_result"
    },
    {
     "data": {
      "image/png": "[encoded data removed]",
      "text/plain": [
       "<Figure size 864x576 with 1 Axes>"
      ]
     },
     "metadata": {
      "needs_background": "light"
     },
     "output_type": "display_data"
    }
   ],
   "source": [
    "# Adapted from: https://www.shanelynn.ie/bar-plots-in-python-using-pandas-dataframes/\n",
    "stacked_data = df.apply(lambda x: x*100/sum(x), axis=1)\n",
    "stacked_data.plot(kind=\"bar\", stacked=True, figsize=(12,8))\n",
    "plt.title(\"Occupations and Neighbourhoods\")\n",
    "plt.ylabel(\"Frequency\")"
   ]
  },
  {
   "cell_type": "markdown",
   "metadata": {},
   "source": [
    "Based on this plot, it looks like White Collar workers are more likely to live in neighbourhood D than Blue Collar workers while Blue Collar workers are more likely to live in neighbourhood B than White Collar workers. But can it be said based on this observation that there is a significant relationship here?\n",
    "\n",
    "A null hypothesis assumes there is no relationship between these variables, that the neighbourhood a person lives in is not related to their occupation, while an alternative hypothesis would assume there is some kind of association between them. The Chi-squared test calculates the values that would be expected from the sample at each data point if the null hypothesis were true and compares them to the actual observed values. Expected values are calculated for each data point by multiplying the total of a column by the total of a row and dividing it by the population of the sample. For example, to calculate the expected number of White Collar workers that live in neighbourhood D if these variables were independent, we would need to multiply the total of column D (150) by the total of the White Collar row (349) and divide it by the total of the sample (650). https://en.wikipedia.org/wiki/Chi-squared_test\n",
    "\n",
    "$${\\frac{150 * 349}{650} = 80.54}$$\n",
    "\n",
    "The expected value at this data point is 80.54 but the observed value is 95 meaning there is a difference of 14.46 between them. One of the results of a Chi-squared test is the Chi-squared statistic, which represents the differences between the observed and expected values for the whole dataset in a single value. The closer this value is to zero, the more aligned the observed and expected values are, and therefore it is more likely that the variables are independent from one another since they would be echoing the values determined by an assumption that the null hypothesis is true. https://www.statisticshowto.com/probability-and-statistics/chi-square/ \n",
    "\n",
    "At its most basic, the formula for the Chi-squared statistic is the sum of the squared difference between the observed and expected values for each data point divided by the expected values https://www.statisticshowto.com/probability-and-statistics/chi-square/:\n",
    "\n",
    "$${\\chi}^2=\\sum\\frac{(O_i - E_i)^2}{E_i}$$\n",
    "\n",
    "However, this statistic alone is not enough to indicate the independence of the variables - the significance of this value needs to be determined.\n",
    "\n",
    "The **p-value** indicates the statistical significance of the Chi-squared value. It represents the probability that any extreme  differences seen between the observed and expected values occurred as a result of random chance. https://www.investopedia.com/terms/p/p-value.asp In other words, what are the chances that the actual values would have been measured if the variables were truly independent of one another? The smaller a p-value, the lower these chances and the more evidence there is to support the alternative hypothesis that there is a relationship between the variables.\n",
    "\n",
    "The **critical value** represents a point beyond which the null hypothesis can be rejected, i.e. if the Chi-squared statistic is greater than this value, it is unlikely that the variables are independent  https://www.statisticssolutions.com/non-parametric-analysis-chi-square/. A Chi-square table (below) can be used to determine the critical value, which is based on the degrees of freedom and the significance level.\n",
    "\n",
    "![ChiSquareTable](https://www.statology.org/wp-content/uploads/2020/01/chi_square_table_small.jpg)\n",
    "\n",
    "\n",
    "The **degrees of freedom** is a simple calculation that refers to the maximum number of independent values in the dataset that have the freedom to vary https://www.investopedia.com/terms/d/degrees-of-freedom.asp In this case it is the multiplication of the number of rows (minus 1) and the number of columns (minus one): (4-1)(3-1) = 6  \n",
    "\n",
    "The **significance level** is related to the p-value. It is an arbitrary point, decided by researchers prior to beginning an analysis, below which they have determined the null hypothesis can be rejected https://www.statsdirect.com/help/basics/p_values.htm. If the p-value falls below the significance level, researchers can reject the null hypothesis and suspect that there may be a relationship between the variables. The significance level can be any value between 0 and 1 but typically values of 0.1, 0.05 or 0.01 are used as the threshold  http://www.stat.yale.edu/Courses/1997-98/101/sigtest.htm . A p-value below a significance level of 0.05 indicates that there is a less than 5% chance that the null hypothesis is correct and that the observed data is a result of random chance. \n",
    "\n",
    "With a value of 6 degrees of freedom and significance levels of 0.1, 0.05, and 0.01 the table above suggests the critical value would be 10.645, 12.592 and 16.812 respectively for each of these values. As the significance level value gets smaller, the critical value gets larger https://www.statology.org/chi-square-critical-value-python/ The task description states that the Chi-squared value of the data above should be 24.6 and so it looks like the null hypothesis will be rejected based on these critical values across the different significance levels. To look further into this, the Chi-squared test is performed below using scipy.stats. "
   ]
  },
  {
   "cell_type": "code",
   "execution_count": 63,
   "metadata": {},
   "outputs": [
    {
     "data": {
      "text/plain": [
       "(24.5712028585826,\n",
       " 0.0004098425861096696,\n",
       " 6,\n",
       " array([[ 80.53846154,  80.53846154, 107.38461538,  80.53846154],\n",
       "        [ 34.84615385,  34.84615385,  46.46153846,  34.84615385],\n",
       "        [ 34.61538462,  34.61538462,  46.15384615,  34.61538462]]))"
      ]
     },
     "execution_count": 63,
     "metadata": {},
     "output_type": "execute_result"
    }
   ],
   "source": [
    "import scipy.stats as stats\n",
    "\n",
    "# Performing Chi2 test \n",
    "chi2_test = stats.chi2_contingency(df)\n",
    "chi2_test"
   ]
  },
  {
   "cell_type": "markdown",
   "metadata": {},
   "source": [
    "The test is very easy to run; just a single command performs all the calculations for the Chi-squared statistic, the p-value, the degrees of freedom and the expected values generated for this population. To make it easier to read, it is performed again below with each returned value being assigned to a variable. "
   ]
  },
  {
   "cell_type": "code",
   "execution_count": 66,
   "metadata": {},
   "outputs": [
    {
     "name": "stdout",
     "output_type": "stream",
     "text": [
      "Chi2 Statistic: 24.5712028585826\n",
      "\n",
      "Degrees of Freedom: 6\n",
      "\n",
      "P-Value: 0.0004098425861096696\n",
      "\n",
      "Expected Values:\n",
      " [[ 80.53846154  80.53846154 107.38461538  80.53846154]\n",
      " [ 34.84615385  34.84615385  46.46153846  34.84615385]\n",
      " [ 34.61538462  34.61538462  46.15384615  34.61538462]]\n"
     ]
    }
   ],
   "source": [
    "# Adapted from https://towardsdatascience.com/running-chi-square-tests-in-python-with-die-roll-data-b9903817c51b \n",
    "\n",
    "# Performing Chi2 test and assigning results to different variables\n",
    "chi2_stat, p_val, dof, expected = stats.chi2_contingency(df)\n",
    "\n",
    "# Printing each variable\n",
    "print(f\"Chi2 Statistic: {chi2_stat}\\n\")\n",
    "print(f\"Degrees of Freedom: {dof}\\n\")\n",
    "print(f\"P-Value: {p_val}\\n\")\n",
    "print(f\"Expected Values:\\n {expected}\")"
   ]
  },
  {
   "cell_type": "markdown",
   "metadata": {},
   "source": [
    "These results confirm that the Chi-squared statistic is approximately 24.6 as outlined in the task description. It also shows that the degrees of freedom value is 6, which was previously calculated. The p-value is very low at 0.0004, indicating that it is highly unlikely that the null hypothesis is supported. Most researchers consider a p-value less than 0.05 to be statistically significant and a p-value less than 0.001 to be statistically highly significant https://www.statsdirect.com/help/basics/p_values.htm The p-value for this data is even lower, representing a 4 in 10,000 chance that these values could occur if the null hypothesis was correct.\n",
    "\n",
    "The critical value is not included in the above Chi-squared test but can be calculated using the function below."
   ]
  },
  {
   "cell_type": "code",
   "execution_count": 75,
   "metadata": {},
   "outputs": [
    {
     "name": "stdout",
     "output_type": "stream",
     "text": [
      "Critical Value p<0.05: 12.591587243743977\n",
      "Critical Value p<0.005: 18.547584178511087\n",
      "Critical Value p<0.0005: 24.102798994983747\n"
     ]
    }
   ],
   "source": [
    "# Adapted from https://www.statology.org/chi-square-critical-value-python/\n",
    "\n",
    "# Critical value p<0.05\n",
    "critical1 = stats.chi2.ppf(1-.05, df=dof)\n",
    "print(f\"Critical Value p<0.05: {critical1}\")\n",
    "\n",
    "# Critical value p<0.005\n",
    "critical2 = stats.chi2.ppf(1-.005, df=dof)\n",
    "print(f\"Critical Value p<0.005: {critical2}\")\n",
    "\n",
    "# Critical value p<0.0005\n",
    "critical3 = stats.chi2.ppf(1-.0005, df=dof)\n",
    "print(f\"Critical Value p<0.0005: {critical3}\")"
   ]
  },
  {
   "cell_type": "markdown",
   "metadata": {},
   "source": [
    "The three critical values calculated above using different significance levels are all lower than the Chi-squared statistic and so it is fair at this stage to reject the null hypothesis and state that a relationship exists between the variables.\n",
    "\n",
    "The Chi-squared test also provides the expected values for each datapoint. These have been added to a dataframe below ad merged with the observed values."
   ]
  },
  {
   "cell_type": "code",
   "execution_count": 44,
   "metadata": {},
   "outputs": [
    {
     "data": {
      "text/html": [
       "<div>\n",
       "<style scoped>\n",
       "    .dataframe tbody tr th:only-of-type {\n",
       "        vertical-align: middle;\n",
       "    }\n",
       "\n",
       "    .dataframe tbody tr th {\n",
       "        vertical-align: top;\n",
       "    }\n",
       "\n",
       "    .dataframe thead th {\n",
       "        text-align: right;\n",
       "    }\n",
       "</style>\n",
       "<table border=\"1\" class=\"dataframe\">\n",
       "  <thead>\n",
       "    <tr style=\"text-align: right;\">\n",
       "      <th></th>\n",
       "      <th>A</th>\n",
       "      <th>B</th>\n",
       "      <th>C</th>\n",
       "      <th>D</th>\n",
       "    </tr>\n",
       "  </thead>\n",
       "  <tbody>\n",
       "    <tr>\n",
       "      <th>White Collar Exp</th>\n",
       "      <td>80.538462</td>\n",
       "      <td>80.538462</td>\n",
       "      <td>107.384615</td>\n",
       "      <td>80.538462</td>\n",
       "    </tr>\n",
       "    <tr>\n",
       "      <th>Blue Collar Exp</th>\n",
       "      <td>34.846154</td>\n",
       "      <td>34.846154</td>\n",
       "      <td>46.461538</td>\n",
       "      <td>34.846154</td>\n",
       "    </tr>\n",
       "    <tr>\n",
       "      <th>No Collar Exp</th>\n",
       "      <td>34.615385</td>\n",
       "      <td>34.615385</td>\n",
       "      <td>46.153846</td>\n",
       "      <td>34.615385</td>\n",
       "    </tr>\n",
       "  </tbody>\n",
       "</table>\n",
       "</div>"
      ],
      "text/plain": [
       "                          A          B           C          D\n",
       "White Collar Exp  80.538462  80.538462  107.384615  80.538462\n",
       "Blue Collar Exp   34.846154  34.846154   46.461538  34.846154\n",
       "No Collar Exp     34.615385  34.615385   46.153846  34.615385"
      ]
     },
     "execution_count": 44,
     "metadata": {},
     "output_type": "execute_result"
    }
   ],
   "source": [
    "df2 = pd.DataFrame(expected, index=[\"White Collar Exp\", \"Blue Collar Exp\", \"No Collar Exp\"],\n",
    "                  columns=[\"A\", \"B\", \"C\", \"D\"])\n",
    "df2"
   ]
  },
  {
   "cell_type": "code",
   "execution_count": 46,
   "metadata": {},
   "outputs": [
    {
     "data": {
      "text/html": [
       "<div>\n",
       "<style scoped>\n",
       "    .dataframe tbody tr th:only-of-type {\n",
       "        vertical-align: middle;\n",
       "    }\n",
       "\n",
       "    .dataframe tbody tr th {\n",
       "        vertical-align: top;\n",
       "    }\n",
       "\n",
       "    .dataframe thead th {\n",
       "        text-align: right;\n",
       "    }\n",
       "</style>\n",
       "<table border=\"1\" class=\"dataframe\">\n",
       "  <thead>\n",
       "    <tr style=\"text-align: right;\">\n",
       "      <th></th>\n",
       "      <th>A</th>\n",
       "      <th>B</th>\n",
       "      <th>C</th>\n",
       "      <th>D</th>\n",
       "    </tr>\n",
       "  </thead>\n",
       "  <tbody>\n",
       "    <tr>\n",
       "      <th>Blue Collar</th>\n",
       "      <td>30.00</td>\n",
       "      <td>50.00</td>\n",
       "      <td>51.00</td>\n",
       "      <td>20.00</td>\n",
       "    </tr>\n",
       "    <tr>\n",
       "      <th>Blue Collar Exp</th>\n",
       "      <td>34.85</td>\n",
       "      <td>34.85</td>\n",
       "      <td>46.46</td>\n",
       "      <td>34.85</td>\n",
       "    </tr>\n",
       "    <tr>\n",
       "      <th>No Collar</th>\n",
       "      <td>30.00</td>\n",
       "      <td>40.00</td>\n",
       "      <td>45.00</td>\n",
       "      <td>35.00</td>\n",
       "    </tr>\n",
       "    <tr>\n",
       "      <th>No Collar Exp</th>\n",
       "      <td>34.62</td>\n",
       "      <td>34.62</td>\n",
       "      <td>46.15</td>\n",
       "      <td>34.62</td>\n",
       "    </tr>\n",
       "    <tr>\n",
       "      <th>White Collar</th>\n",
       "      <td>90.00</td>\n",
       "      <td>60.00</td>\n",
       "      <td>104.00</td>\n",
       "      <td>95.00</td>\n",
       "    </tr>\n",
       "    <tr>\n",
       "      <th>White Collar Exp</th>\n",
       "      <td>80.54</td>\n",
       "      <td>80.54</td>\n",
       "      <td>107.38</td>\n",
       "      <td>80.54</td>\n",
       "    </tr>\n",
       "  </tbody>\n",
       "</table>\n",
       "</div>"
      ],
      "text/plain": [
       "                      A      B       C      D\n",
       "Blue Collar       30.00  50.00   51.00  20.00\n",
       "Blue Collar Exp   34.85  34.85   46.46  34.85\n",
       "No Collar         30.00  40.00   45.00  35.00\n",
       "No Collar Exp     34.62  34.62   46.15  34.62\n",
       "White Collar      90.00  60.00  104.00  95.00\n",
       "White Collar Exp  80.54  80.54  107.38  80.54"
      ]
     },
     "execution_count": 46,
     "metadata": {},
     "output_type": "execute_result"
    }
   ],
   "source": [
    "# https://stackoverflow.com/a/44152479\n",
    "all_values = pd.concat([df, df2]).sort_index()\n",
    "all_values.round(2)"
   ]
  },
  {
   "cell_type": "markdown",
   "metadata": {},
   "source": [
    "As with the initial plot, the biggest differences between the observed and expected data are with Blue and White Collar workers in neighbourhoods B and D. According to the statistics measured above, it is highly unlikely that the data in this population sample would have occurred if the variables were independent from one another.There is some kind of statistically significant relationship between the place a persons chooses to reside and the category of their job. The nature of this relationship, however, cannot be determined by Chi-squared analysis https://stattrek.com/chi-square-test/independence.aspx. Based on the results of this analysis alone, it cannot be determined that a causal relationship exists between a person's job and the place they live. \n"
   ]
  },
  {
   "cell_type": "markdown",
   "metadata": {},
   "source": [
    "<h1>3. Standard Deviation </h1>\n",
    "Task: The standard deviation of an array of numbers x is calculated using numpy as np.sqrt(np.sum((x - np.mean(x))\\*\\*2)/len(x)).\n",
    "However, Microsoft Excel has two different versions of the standard deviation calculation, STDEV.P and STDEV.S . The STDEV.P function performs the above calculation but in the STDEV.S calculation the division is by len(x)-1 rather than len(x) . Research these Excel functions, writing a note in a Markdown cell about the difference between them. Then use numpy to perform a simulation demonstrating that the STDEV.S calculation is a better estimate for the standard deviation of a population when performed on a sample. Note that part of this task is to figure out the terminology in the previous sentence."
   ]
  },
  {
   "cell_type": "markdown",
   "metadata": {},
   "source": [
    "STDEV.P is used when the data represents the entire population while STDEV.S is used when the data represents just a sample of a population. https://www.exceltip.com/statistical-formulas/how-to-use-excel-stdev-p-function.html\n",
    "\n",
    "So the calculation for S uses the number of data points less 1 while P uses the whole number of data points.\n",
    "\n",
    "The formula to calculate the standard deviation is:\n",
    "- Calculate the mean of all values.\n",
    "- Calculate the distance between each value and the mean. \n",
    "- Square each of these numbers and then add them all together.\n",
    "- Divide by the number of data points.\n",
    "- Calculate the square root if this value. \n",
    "\n",
    "While this formula returns an accurate standard deviation for a whole population, if it is used for a sample of that population the result will be less accurate because all of the data is not available. The standard deviation for a sample with this formula is often incorrect and so subtracting 1 from the number of data points   \n",
    "https://en.wikipedia.org/wiki/Bessel's_correction\n",
    "https://www.thoughtco.com/population-vs-sample-standard-deviations-3126372\n",
    "https://www.statisticshowto.com/bessels-correction/\n",
    "\n"
   ]
  },
  {
   "cell_type": "markdown",
   "metadata": {},
   "source": [
    "# 4. KNN and Iris Data Set\n",
    "\n",
    "Use scikit-learn to apply k-means clustering to Fisher’s famous Iris data set. You will easily obtain a copy of the data set online. Explain in a Markdown cell how your code works and how accurate it might be, and then explain how your model could be used to make predictions of species of iris."
   ]
  },
  {
   "cell_type": "code",
   "execution_count": null,
   "metadata": {},
   "outputs": [],
   "source": []
  }
 ],
 "metadata": {
  "kernelspec": {
   "display_name": "Python 3",
   "language": "python",
   "name": "python3"
  },
  "language_info": {
   "codemirror_mode": {
    "name": "ipython",
    "version": 3
   },
   "file_extension": ".py",
   "mimetype": "text/x-python",
   "name": "python",
   "nbconvert_exporter": "python",
   "pygments_lexer": "ipython3",
   "version": "3.8.3"
  },
  "toc": {
   "base_numbering": "",
   "nav_menu": {},
   "number_sections": false,
   "sideBar": false,
   "skip_h1_title": false,
   "title_cell": "Table of Contents",
   "title_sidebar": "Contents",
   "toc_cell": false,
   "toc_position": {
    "height": "calc(100% - 180px)",
    "left": "10px",
    "top": "150px",
    "width": "165px"
   },
   "toc_section_display": true,
   "toc_window_display": false
  }
 },
 "nbformat": 4,
 "nbformat_minor": 4
}
