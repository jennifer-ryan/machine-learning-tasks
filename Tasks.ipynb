{
 "cells": [
  {
   "cell_type": "markdown",
   "metadata": {},
   "source": [
    "<h1>1. Square Root 2</h1>\n",
    "\n",
    "Task: Write a Python function called sqrt2 that calculates and prints to the screen the square root of 2 to 100 decimal places. Your code should not depend on any module from the standard library or otherwise. You should research the task first and include references and a description of your algorithm."
   ]
  },
  {
   "cell_type": "markdown",
   "metadata": {},
   "source": [
    "The square root of 2 to 100 decimal places is 1.4142135623730950488016887242096980785696718753769480731766797379907324784621070388503875343276415727[<sup>1</sup>](https://apod.nasa.gov/htmltest/gifcity/sqrt2.1mil)\n",
    "\n",
    "There are several methods in Python that can be used to calculate the square root, but these need to be imported from modules such as *math* or *numpy*. However, the square root of 2 can also be calculated as the one-half power of 2[<sup>2</sup>](https://en.wikipedia.org/wiki/Square_root_of_2) since\n",
    "\n",
    "$${X^\\frac{1}{2} * X^\\frac{1}{2}  = X^\\frac{1+1}{2}  = X^1}$$ \n",
    "\n",
    "Thus it can be simply calculated as follows:"
   ]
  },
  {
   "cell_type": "code",
   "execution_count": 1,
   "metadata": {},
   "outputs": [
    {
     "data": {
      "text/plain": [
       "1.4142135623730951"
      ]
     },
     "execution_count": 1,
     "metadata": {},
     "output_type": "execute_result"
    }
   ],
   "source": [
    "# Calculating square root 2 with half exponent\n",
    "exp_half = 2 ** .5\n",
    "exp_half"
   ]
  },
  {
   "cell_type": "markdown",
   "metadata": {},
   "source": [
    "This gives the square root of 2 without using any imported libraries but the returned value doesn't satisfy the requirement of 100 decimal places and the final 16th digit is a 1 rather than the expected 0. Perhaps this could simply be reformatted to display 100 decimal places.  "
   ]
  },
  {
   "cell_type": "code",
   "execution_count": 2,
   "metadata": {},
   "outputs": [
    {
     "data": {
      "text/plain": [
       "'1.4142135623730951454746218587388284504413604736328125000000000000000000000000000000000000000000000000'"
      ]
     },
     "execution_count": 2,
     "metadata": {},
     "output_type": "execute_result"
    }
   ],
   "source": [
    "# Formatting to 100 decimal places\n",
    "\"{:.100f}\".format(exp_half)"
   ]
  },
  {
   "cell_type": "markdown",
   "metadata": {},
   "source": [
    "While more decimal places are returned here, they appear to become incorrect after the 15<sup>th</sup> digit. This is due to the difficulty of computing floating point numbers and compounded by the fact that root 2 is an irrational number, seemingly infinite with no repeating pattern. \n",
    "\n",
    "Binary expresses real numbers in base 2 and so decimal fractions are expressed as base 2 fractions. If the denominator of the decimal fraction to be expressed is a power of 2, they can be represented accurately[<sup>3</sup>](https://stackoverflow.com/a/588014) but other numbers can only be approximated and rounding errors are inherent to their calculation.[<sup>4</sup>](https://docs.oracle.com/cd/E19957-01/806-3568/ncg_goldberg.html)\n",
    "\n",
    "The example below demonstrates these errors. While 1.5 - 1.0 == 0.5 returns as True, 1.2 - 1.0 == 0.2 returns as False. This is because 0.5 = 1/2 so the denominator can be expressed as a power of 2 but 0.2 = 1/5, which cannot be represented as a power of 2 and so this number can only be approximated. The estimation appears accurate at first but as the number of values after the decimal point increases, the precision decreases. The same thing happened in the calculation above - the values are correct up to the 15<sup>th</sup> digit but then become inaccurate."
   ]
  },
  {
   "cell_type": "code",
   "execution_count": 3,
   "metadata": {},
   "outputs": [
    {
     "name": "stdout",
     "output_type": "stream",
     "text": [
      "Is 1.5 - 1.0 == 0.5?\n",
      "True\n",
      "\n",
      "Is 1.2 - 1.0 == 0.2?\n",
      "False\n",
      "\n",
      "What is 1.2 - 1.0?\n",
      "0.19999999999999996\n",
      "\n",
      "Expressing 1.5 and 1.2 to 1 decimal place:\n",
      "1.5\n",
      "1.2\n",
      "\n",
      "Expressing 1.5 and 1.2 to 10 decimal places:\n",
      "1.5000000000\n",
      "1.2000000000\n",
      "\n",
      "Expressing 1.5 and 1.2 to 20 decimal placs:\n",
      "1.50000000000000000000\n",
      "1.19999999999999995559\n"
     ]
    }
   ],
   "source": [
    "# Demonstrating issues with floating point number calculations\n",
    "print(\"Is 1.5 - 1.0 == 0.5?\")\n",
    "print(1.5 - 1.0 == 0.5)\n",
    "print(\"\")\n",
    "\n",
    "print(\"Is 1.2 - 1.0 == 0.2?\")\n",
    "print(1.2 - 1.0 == 0.2)\n",
    "print(\"\")\n",
    "\n",
    "print(\"What is 1.2 - 1.0?\")\n",
    "print(1.2 - 1.0)\n",
    "print(\"\")\n",
    "\n",
    "print(\"Expressing 1.5 and 1.2 to 1 decimal place:\")\n",
    "print(1.5)\n",
    "print(1.2)\n",
    "print(\"\")\n",
    "\n",
    "print(\"Expressing 1.5 and 1.2 to 10 decimal places:\")\n",
    "print(\"{:.10f}\".format(1.5))\n",
    "print(\"{:.10f}\".format(1.2))\n",
    "print(\"\")\n",
    "\n",
    "print(\"Expressing 1.5 and 1.2 to 20 decimal placs:\")\n",
    "print(\"{:.20f}\".format(1.5))\n",
    "print(\"{:.20f}\".format(1.2))"
   ]
  },
  {
   "cell_type": "markdown",
   "metadata": {},
   "source": [
    "While the previous calculation of root 2 became inaccurate after a certain number of values, it looks like the program stopped calculating values altogether and returned only zeros after the 52<sup>nd</sup> digit.\n",
    "\n",
    "This is because there is a finite number of bits in which to store floating point numbers. Most machines today store floats in 53 bits, which is why the answer above ends with these trailing zeros.[<sup>5</sup>](https://docs.python.org/3.4/tutorial/floatingpoint.html) It is not possible to store an irrational number such as root 2 in bits as it would require storing something infinite into a finite amount of space.   \n",
    "\n",
    "Since the issues arising here seem to come from the computational difficulty in calculating a floating point number, perhaps presenting the number 2 as a very large integer (2 with a lot of zeros) will bypass the issue. The returned value needs to have 100 decimal places so 200 zeros are tacked on to 2 and the square root of this number is calculated. Below again uses the 0.5 exponent to calculate the square root."
   ]
  },
  {
   "cell_type": "code",
   "execution_count": 4,
   "metadata": {},
   "outputs": [
    {
     "data": {
      "text/plain": [
       "1.414213562373095e+100"
      ]
     },
     "execution_count": 4,
     "metadata": {},
     "output_type": "execute_result"
    }
   ],
   "source": [
    "# Add 200 zeros to 2 to get integer square root \n",
    "large_int = 2* 10**200 \n",
    "exp_int = large_int ** .5\n",
    "\n",
    "exp_int"
   ]
  },
  {
   "cell_type": "markdown",
   "metadata": {},
   "source": [
    "The answer is so large that it's returned as an exponent. The number is formatted below to view it in its entirety, this time without specifying the number of decimal places as is should display an integer.  "
   ]
  },
  {
   "cell_type": "code",
   "execution_count": 5,
   "metadata": {},
   "outputs": [
    {
     "data": {
      "text/plain": [
       "'14142135623730950271424125632818586983491648817919875481779003888601306842716543030228210043498528768.000000'"
      ]
     },
     "execution_count": 5,
     "metadata": {},
     "output_type": "execute_result"
    }
   ],
   "source": [
    "# Format to view value above without exponent\n",
    "'{:f}'.format(exp_int)"
   ]
  },
  {
   "cell_type": "markdown",
   "metadata": {},
   "source": [
    "While this method appears to return the required number of digits, albeit in integer form, the values again become incorrect after the 15th digit. Because this method multiplies the large integer representation of 2 by a floating point number (0.5) to get the square root, the problems with computing floating point numbers again come into play. "
   ]
  },
  {
   "cell_type": "markdown",
   "metadata": {},
   "source": [
    "Looking at algorithmic options for calculating the square root may help to solve this issue. The first one I examined was the long division method. This algorithm works as follows:[<sup>6</sup>](https://www.geeksforgeeks.org/square-root-of-2/) \n",
    "\n",
    "1. Divide the number into groups of two - for square root 2 the first digit pair is 02 and it is followed by a number of zeros after a decimal point that is double the number of decimal places required in the answer.\n",
    "2. Find the highest number that, when squared does not exceed the first pair of digits. This becomes the divisor and the first digit of the answer (1 in this case). \n",
    "3. Subtract this number from the first number pair (02 - 1 = 1) and bring down the next pair of digits (00). This number is the dividend in the next step (100).\n",
    "4. To get the divisor for this number first multiply the quotient by 2 (1 * 2 = 2) and write the result in the tens place. \n",
    "5. To get the ones value, repeat step 2. In this case, 4 becomes the next digit in the answer.\n",
    "    - 21 * 1 = 21\n",
    "    - 22 * 2 = 44\n",
    "    - 23 * 3 = 69\n",
    "    - 24 * 4 = 96\n",
    "6. Perform step 3 again, subtracting the numbers (100 - 96 = 4) and bringing the next pair down beside the answer (400).\n",
    "7. Perform step 4 again, multiplying the quotient by 2 (14 * 2 = 28), which will form the hundreds and tens part of the divisor. \n",
    "8. Repeat step 2 again to get the ones value in the same way as step 5.\n",
    "9. Keep cycling through the steps until you have reached the required number of decimal places. \n",
    "\n",
    "Here is a visual representation of the above explanation:\n",
    "\n",
    "![Long Division Square Root](https://cdn1.byjus.com/wp-content/uploads/2018/11/maths/2018/07/10062902/Square-Root-Of-2.png)\n",
    "\n",
    "This method is useful for manual calculation[<sup>7</sup>](https://en.wikipedia.org/wiki/Methods_of_computing_square_roots#Digit-by-digit_calculation) but makes for a long-winded computer program.[<sup>8</sup>](https://www.geeksforgeeks.org/long-division-method-to-find-square-root-with-examples/)    \n",
    "\n",
    "One of the most common algorithms, and one perhaps better suited to computation than the long division method,[<sup>9</sup>](https://www.whitman.edu/mathematics/calculus_online/section06.03.html) is Newton's Method.  This works by calculating successively better approximations of the square root to find the correct answer.[<sup>10</sup>](https://en.wikipedia.org/wiki/Newton%27s_method)\n",
    "\n",
    "- Starting with the original number (x), make an estimation of its square root (y). \n",
    "- Improve the estimate by taking the mean of the old estimate (y) and the value of the original number divided by the estimate (x/y): \n",
    "\n",
    "$$\\frac{y + \\frac{x}{y}}{2}$$\n",
    "\n",
    "- The result of this becomes the new estimate and the process is repeated until the equation is solved or the desired number of decimal places is achieved.[<sup>11</sup>](https://www.coursera.org/lecture/progfun1/lecture-1-5-example-square-roots-with-newtons-method-FQDE1) \n",
    "\n",
    "Using x=2 as an example, this would work out as follows\n",
    "\n",
    "\n",
    "|Estimate (y)   |New Estimate (y + x/y)/2   |\n",
    "|---|---|\n",
    "|1   |1.5   |\n",
    "|1.5   |1.4167   |\n",
    "|1.4167   |1.4142   |\n",
    "|....   |....   |"
   ]
  },
  {
   "cell_type": "markdown",
   "metadata": {},
   "source": [
    "The function below[<sup>12</sup>](https://stackoverflow.com/a/5189881) [<sup>13</sup>](https://stackoverflow.com/a/8646495) works by first multiplying the original number by 10 to the power of double the number of decimal places required, i.e. if we want 100 decimal places in our answer, we need 200 zeros tacked on to the number 2. The aim is to get an integer square root, similar to what was previously attempted above but with the Newtonian method. By using floor division to get the mean for each successive estimate, it avoids the use of floating point numbers altogether, and thus the issues that arise with them. The code continues to refine the estimation until the old and new estimates match, which occurs once the number of digits required is reached. The returned integer value is 101 digits long, including the number that will fall in front of the decimal. To present the final answer, the returned value of this function is reformatted as a string to include a decimal point.    "
   ]
  },
  {
   "cell_type": "code",
   "execution_count": 6,
   "metadata": {},
   "outputs": [
    {
     "name": "stdout",
     "output_type": "stream",
     "text": [
      "14142135623730950488016887242096980785696718753769480731766797379907324784621070388503875343276415727\n",
      "\n",
      "Number of digits: 101\n",
      "\n",
      "Answer 1.4142135623730950488016887242096980785696718753769480731766797379907324784621070388503875343276415727\n"
     ]
    },
    {
     "data": {
      "text/plain": [
       "True"
      ]
     },
     "execution_count": 6,
     "metadata": {},
     "output_type": "execute_result"
    }
   ],
   "source": [
    "# Square root function\n",
    "# Adapted from https://stackoverflow.com/a/5189881 and https://stackoverflow.com/a/8646495\n",
    "def sqrt2(digits):\n",
    "    # Create integer value for 2 with 200 zeros\n",
    "    a = 2 * (10**(2*digits))\n",
    "   \n",
    "    # Variables to hold old and new estimates\n",
    "    x_prev = 0                \n",
    "    x_next = 1 * (10**digits) \n",
    "    \n",
    "    # Loop until old and new estimates are equal\n",
    "    while x_prev != x_next:    \n",
    "        # Old estimate becomes new estimate\n",
    "        x_prev = x_next \n",
    "        # Use floor division to perform Newtonian calculation to get the new estimate\n",
    "        x_next = (x_prev + (a // x_prev)) // 2 \n",
    "    return x_next\n",
    "\n",
    "# Running the code\n",
    "x = sqrt2(100)\n",
    "print(x)\n",
    "print(\"\")\n",
    "\n",
    "# Reformatting integer to string to get length and add decimal\n",
    "x = str(x)\n",
    "print(\"Number of digits: \" + str(len(x)) +\"\\n\")\n",
    "sqrt2 = x[0]+\".\"+x[1:]\n",
    "\n",
    "# Print answer\n",
    "print(\"Answer\", sqrt2)\n",
    "\n",
    "# Square root of 2 copied from https://apod.nasa.gov/htmltest/gifcity/sqrt2.1mil\n",
    "stringsqrt2 = \"1.4142135623730950488016887242096980785696718753769480731766797379907324784621070388503875343276415727\"\n",
    "\n",
    "# Returns true if answer matches square root of 2\n",
    "sqrt2 == stringsqrt2"
   ]
  },
  {
   "cell_type": "markdown",
   "metadata": {},
   "source": [
    "## References\n",
    "\n",
    "1. Square root of 2: https://apod.nasa.gov/htmltest/gifcity/sqrt2.1mil\n",
    "2. Half power of 2: https://en.wikipedia.org/wiki/Square_root_of_2\n",
    "3. Base 2 fractions: https://stackoverflow.com/questions/588004/is-floating-point-math-broken/588014#588014\n",
    "4. Rounding errors: https://docs.oracle.com/cd/E19957-01/806-3568/ncg_goldberg.html\n",
    "5. Storing floating point numbers: https://docs.python.org/3.4/tutorial/floatingpoint.html\n",
    "6. Explanation of long division method: https://www.geeksforgeeks.org/square-root-of-2/\n",
    "7. Manual calculation: https://en.wikipedia.org/wiki/Methods_of_computing_square_roots#Digit-by-digit_calculation\n",
    "8. Long division program example: https://www.geeksforgeeks.org/long-division-method-to-find-square-root-with-examples/\n",
    "9. Newton's Method computation https://www.whitman.edu/mathematics/calculus_online/section06.03.html\n",
    "10. Newton's Method: https://en.wikipedia.org/wiki/Newton%27s_method\n",
    "11. Explanation of Newton's method: https://en.wikipedia.org/wiki/Newton%27s_method\n",
    "12. Code adaptation: https://stackoverflow.com/questions/5187664/generating-digits-of-square-root-of-2/5189881#5189881\n",
    "13. Code adaptation: https://stackoverflow.com/questions/8646468/python-3-what-is/8646495#8646495"
   ]
  },
  {
   "cell_type": "markdown",
   "metadata": {},
   "source": [
    "***"
   ]
  },
  {
   "cell_type": "markdown",
   "metadata": {},
   "source": [
    "<h1>2. Chi Squared Test for Independence</h1>\n",
    "\n",
    "Task: The Chi-squared test for independence is a statistical hypothesis test like a t-test. It is used to analyse whether two categorical variables are independent. The Wikipedia article gives the table below as an example, stating the Chi-squared value based on it is approximately 24.6. Use scipy.stats to verify this value and calculate the associated p value. You should include a short note with references justifying your analysis in a markdown cell.\n",
    "\n",
    "|   |A   |B   |C   |D   |Total   |\n",
    "|---|---|---|---|---|---|\n",
    "|White Collar   |90   |60   |104   |95   |349   |\n",
    "|Blue Collar   |30   |50   |51   |20   |151   |\n",
    "|No Collar   |30   |40   |45   |35   |150   |\n",
    "|Total   |150   |150   |200   |150   |650   |\n",
    "\n"
   ]
  },
  {
   "cell_type": "markdown",
   "metadata": {},
   "source": [
    "There are certain criteria that data must meet to be suitable for Chi-squared testing. It should be random, categorical and drawn from a large enough sample of mutually exclusive independent variables such that every data point has a value greater than 5.[<sup>1</sup>](https://www.investopedia.com/terms/c/chi-square-statistic.asp) The above data satisfies these conditions: it takes a random sample of 650 people from a city of 1,000,000 and categorises each person based on their occupation (white collar, blue collar or no collar) and neighbourhood (A, B, C or D). These values are represented above in a contingency table, which has been recreated below as a pandas dataframe. "
   ]
  },
  {
   "cell_type": "code",
   "execution_count": 2,
   "metadata": {},
   "outputs": [
    {
     "data": {
      "text/html": [
       "<div>\n",
       "<style scoped>\n",
       "    .dataframe tbody tr th:only-of-type {\n",
       "        vertical-align: middle;\n",
       "    }\n",
       "\n",
       "    .dataframe tbody tr th {\n",
       "        vertical-align: top;\n",
       "    }\n",
       "\n",
       "    .dataframe thead th {\n",
       "        text-align: right;\n",
       "    }\n",
       "</style>\n",
       "<table border=\"1\" class=\"dataframe\">\n",
       "  <thead>\n",
       "    <tr style=\"text-align: right;\">\n",
       "      <th></th>\n",
       "      <th>A</th>\n",
       "      <th>B</th>\n",
       "      <th>C</th>\n",
       "      <th>D</th>\n",
       "    </tr>\n",
       "  </thead>\n",
       "  <tbody>\n",
       "    <tr>\n",
       "      <th>White Collar</th>\n",
       "      <td>90</td>\n",
       "      <td>60</td>\n",
       "      <td>104</td>\n",
       "      <td>95</td>\n",
       "    </tr>\n",
       "    <tr>\n",
       "      <th>Blue Collar</th>\n",
       "      <td>30</td>\n",
       "      <td>50</td>\n",
       "      <td>51</td>\n",
       "      <td>20</td>\n",
       "    </tr>\n",
       "    <tr>\n",
       "      <th>No Collar</th>\n",
       "      <td>30</td>\n",
       "      <td>40</td>\n",
       "      <td>45</td>\n",
       "      <td>35</td>\n",
       "    </tr>\n",
       "  </tbody>\n",
       "</table>\n",
       "</div>"
      ],
      "text/plain": [
       "               A   B    C   D\n",
       "White Collar  90  60  104  95\n",
       "Blue Collar   30  50   51  20\n",
       "No Collar     30  40   45  35"
      ]
     },
     "execution_count": 2,
     "metadata": {},
     "output_type": "execute_result"
    }
   ],
   "source": [
    "import numpy as np\n",
    "import pandas as pd\n",
    "import matplotlib.pyplot as plt\n",
    "import scipy.stats as stats\n",
    "\n",
    "# Creating dataframe to contain data\n",
    "values = np.array([[90, 60, 104, 95], [30, 50, 51, 20], [30, 40, 45, 35]])\n",
    "\n",
    "df = pd.DataFrame(values, index=[\"White Collar\", \"Blue Collar\", \"No Collar\"],\n",
    "                  columns=[\"A\", \"B\", \"C\", \"D\"])          \n",
    "df"
   ]
  },
  {
   "cell_type": "markdown",
   "metadata": {},
   "source": [
    "Since White Collar data is represented more than Blue and No Collar combined, the data is plotted below as a stacked bar chart to show the proportions of each.[<sup>2</sup>](https://www.shanelynn.ie/bar-plots-in-python-using-pandas-dataframes/)"
   ]
  },
  {
   "cell_type": "code",
   "execution_count": 8,
   "metadata": {},
   "outputs": [
    {
     "data": {
      "text/plain": [
       "Text(0, 0.5, 'Frequency')"
      ]
     },
     "execution_count": 8,
     "metadata": {},
     "output_type": "execute_result"
    },
    {
     "data": {
      "image/png": "[encoded data removed]",
      "text/plain": [
       "<Figure size 864x576 with 1 Axes>"
      ]
     },
     "metadata": {
      "needs_background": "light"
     },
     "output_type": "display_data"
    }
   ],
   "source": [
    "# Plotting data\n",
    "# Adapted from: https://www.shanelynn.ie/bar-plots-in-python-using-pandas-dataframes/\n",
    "stacked_data = df.apply(lambda x: x*100/sum(x), axis=1)\n",
    "stacked_data.plot(kind=\"bar\", stacked=True, figsize=(12,8))\n",
    "plt.title(\"Occupations and Neighbourhoods\")\n",
    "plt.ylabel(\"Frequency\")"
   ]
  },
  {
   "cell_type": "markdown",
   "metadata": {},
   "source": [
    "Based on this plot, it appears that White Collar workers are more likely to live in neighbourhood D than Blue Collar workers while Blue Collar workers are more likely to live in neighbourhood B than White Collar workers. But can it be said based on this observation that there is a significant relationship here?\n",
    "\n",
    "A null hypothesis assumes there is no relationship between these variables, that the neighbourhood a person lives in is not related to their occupation, while an alternative hypothesis would assume there is some kind of association between them. The Chi-squared test calculates the values that would be expected from the sample at each data point if the null hypothesis were true and compares them to the actual observed values.[<sup>3</sup>](https://www.statisticssolutions.com/non-parametric-analysis-chi-square/) Expected values are calculated for each data point by multiplying the total of a column by the total of a row and dividing it by the population of the sample. For example, to calculate the expected number of White Collar workers that would live in neighbourhood D if these variables were independent, we would need to multiply the total of column D (150) by the total of the White Collar row (349) and divide it by the total of the sample (650).[<sup>4</sup>](https://en.wikipedia.org/wiki/Chi-squared_test)\n",
    "\n",
    "$${\\frac{150 * 349}{650} = 80.54}$$\n",
    "\n",
    "The expected value at this data point is 80.54 but the observed value is 95 meaning there is a difference of 14.46 between them. One of the results of a Chi-squared test is the Chi-squared statistic, which represents the differences between the observed and expected values for the whole dataset in a single value. The closer this value is to zero, the more aligned the observed and expected values are, and therefore it is more likely that the variables are independent from one another since they would be echoing the values determined by an assumption that the null hypothesis is true.[<sup>5</sup>](https://www.statisticshowto.com/probability-and-statistics/chi-square/)\n",
    "\n",
    "At its most basic, the formula for the Chi-squared statistic is the sum of the squared difference between the observed and expected values for each data point divided by the expected values:[<sup>6</sup>](https://www.statisticshowto.com/wp-content/uploads/2013/09/chi-square-formula.jpg)\n",
    "\n",
    "$${\\chi}^2=\\sum\\frac{(O_i - E_i)^2}{E_i}$$\n",
    "\n",
    "However, this statistic alone is not enough to indicate the independence of the variables - the significance of this value needs to be determined.\n",
    "\n",
    "The **p-value** indicates the statistical significance of the Chi-squared value. It represents the probability that any extreme  differences seen between the observed and expected values occurred as a result of random chance.[<sup>7</sup>](https://www.investopedia.com/terms/p/p-value.asp) In other words, what are the chances that the actual values would have been measured if the variables were truly independent of one another? The smaller a p-value, the lower these chances and the more evidence there is to support the alternative hypothesis that there is a relationship between the variables.\n",
    "\n",
    "The **critical value** represents a point beyond which the null hypothesis can be rejected, i.e. if the Chi-squared statistic is greater than this value, it is unlikely that the variables are independent.[<sup>8</sup>](https://www.statisticssolutions.com/non-parametric-analysis-chi-square/) A Chi-square table (below) can be used to determine the critical value, which is based on the degrees of freedom and the significance level.\n",
    "\n",
    "![ChiSquareTable](https://www.statology.org/wp-content/uploads/2020/01/chi_square_table_small.jpg)\n",
    "\n",
    "\n",
    "The **degrees of freedom** is a simple calculation that refers to the maximum number of independent values in the dataset that have the freedom to vary.[<sup>9</sup>](https://www.investopedia.com/terms/d/degrees-of-freedom.asp) In this case it is the multiplication of the number of rows (minus 1) and the number of columns (minus 1): (4-1)(3-1) = 6  \n",
    "\n",
    "The **significance level** is related to the p-value. It is an arbitrary point, decided by researchers prior to beginning an analysis, below which they have determined the null hypothesis can be rejected.[<sup>10</sup>](https://www.statsdirect.com/help/basics/p_values.htm) If the p-value falls below the significance level, researchers can reject the null hypothesis and suspect that there may be a relationship between the variables. The significance level can be any value between 0 and 1 but typically values of 0.1, 0.05 or 0.01 are used as the threshold.[<sup>11</sup>](http://www.stat.yale.edu/Courses/1997-98/101/sigtest.htm) A p-value below a significance level of 0.05 indicates that there is a less than 5% chance that the null hypothesis is correct and that the observed data is a result of random chance. \n",
    "\n",
    "With a value of 6 degrees of freedom and significance levels of 0.1, 0.05, and 0.01, the table above suggests the critical value would be 10.645, 12.592 and 16.812 respectively for each of these values. As the significance level value gets smaller, the critical value gets larger[<sup>12</sup>](https://www.statology.org/chi-square-critical-value-python/) The task description states that the Chi-squared value of the data above should be 24.6 and so it looks like the null hypothesis will be rejected based on these critical values across the different significance levels. To look further into this, the Chi-squared test is performed below using scipy.stats. "
   ]
  },
  {
   "cell_type": "code",
   "execution_count": 9,
   "metadata": {},
   "outputs": [
    {
     "data": {
      "text/plain": [
       "(24.5712028585826,\n",
       " 0.0004098425861096696,\n",
       " 6,\n",
       " array([[ 80.53846154,  80.53846154, 107.38461538,  80.53846154],\n",
       "        [ 34.84615385,  34.84615385,  46.46153846,  34.84615385],\n",
       "        [ 34.61538462,  34.61538462,  46.15384615,  34.61538462]]))"
      ]
     },
     "execution_count": 9,
     "metadata": {},
     "output_type": "execute_result"
    }
   ],
   "source": [
    "# Performing Chi2 test \n",
    "chi2_test = stats.chi2_contingency(df)\n",
    "chi2_test"
   ]
  },
  {
   "cell_type": "markdown",
   "metadata": {},
   "source": [
    "The test is very easy to run; just a single command performs all the calculations for the Chi-squared statistic, the p-value, the degrees of freedom and the expected values generated for this population. To make it easier to read, it is performed again below with each returned value being assigned to a variable.[<sup>13</sup>](https://towardsdatascience.com/running-chi-square-tests-in-python-with-die-roll-data-b9903817c51b) "
   ]
  },
  {
   "cell_type": "code",
   "execution_count": 10,
   "metadata": {},
   "outputs": [
    {
     "name": "stdout",
     "output_type": "stream",
     "text": [
      "Chi2 Statistic: 24.5712028585826\n",
      "\n",
      "Degrees of Freedom: 6\n",
      "\n",
      "P-Value: 0.0004098425861096696\n",
      "\n",
      "Expected Values:\n",
      " [[ 80.53846154  80.53846154 107.38461538  80.53846154]\n",
      " [ 34.84615385  34.84615385  46.46153846  34.84615385]\n",
      " [ 34.61538462  34.61538462  46.15384615  34.61538462]]\n"
     ]
    }
   ],
   "source": [
    "# Performing Chi2 test and assigning results to different variables\n",
    "# Adapted from https://towardsdatascience.com/running-chi-square-tests-in-python-with-die-roll-data-b9903817c51b \n",
    "\n",
    "chi2_stat, p_val, dof, expected = stats.chi2_contingency(df)\n",
    "\n",
    "# Printing each variable\n",
    "print(f\"Chi2 Statistic: {chi2_stat}\\n\")\n",
    "print(f\"Degrees of Freedom: {dof}\\n\")\n",
    "print(f\"P-Value: {p_val}\\n\")\n",
    "print(f\"Expected Values:\\n {expected}\")"
   ]
  },
  {
   "cell_type": "markdown",
   "metadata": {},
   "source": [
    "These results confirm that the Chi-squared statistic is approximately 24.6 as outlined in the task description. It also shows that the degrees of freedom value is 6, which was previously calculated. The p-value is very low at 0.0004, indicating that it is highly unlikely that the null hypothesis is supported. Most researchers consider a p-value less than 0.05 to be statistically significant and a p-value less than 0.001 to be statistically highly significant.[<sup>14</sup>](https://www.statsdirect.com/help/basics/p_values.htm) The p-value for this data is even lower, representing a 4 in 10,000 chance that these values could occur if the null hypothesis was correct.\n",
    "\n",
    "The critical value is not included in the above Chi-squared test but can be calculated using the function below.[<sup>15</sup>](https://www.statology.org/chi-square-critical-value-python/)"
   ]
  },
  {
   "cell_type": "code",
   "execution_count": 11,
   "metadata": {},
   "outputs": [
    {
     "name": "stdout",
     "output_type": "stream",
     "text": [
      "Critical Value p<0.05: 12.591587243743977\n",
      "Critical Value p<0.005: 18.547584178511087\n",
      "Critical Value p<0.0005: 24.102798994983747\n"
     ]
    }
   ],
   "source": [
    "# Adapted from https://www.statology.org/chi-square-critical-value-python/\n",
    "\n",
    "# Critical value p<0.05\n",
    "critical1 = stats.chi2.ppf(1-.05, df=dof)\n",
    "print(f\"Critical Value p<0.05: {critical1}\")\n",
    "\n",
    "# Critical value p<0.005\n",
    "critical2 = stats.chi2.ppf(1-.005, df=dof)\n",
    "print(f\"Critical Value p<0.005: {critical2}\")\n",
    "\n",
    "# Critical value p<0.0005\n",
    "critical3 = stats.chi2.ppf(1-.0005, df=dof)\n",
    "print(f\"Critical Value p<0.0005: {critical3}\")"
   ]
  },
  {
   "cell_type": "markdown",
   "metadata": {},
   "source": [
    "The three critical values calculated above using different significance levels are all lower than the Chi-squared statistic and so it is fair at this stage to reject the null hypothesis and state that a relationship exists between the variables.\n",
    "\n",
    "The Chi-squared test also provides the expected values for each datapoint. These have been added to a dataframe below and merged with the observed values.[<sup>16</sup>](https://stackoverflow.com/a/44152479)"
   ]
  },
  {
   "cell_type": "code",
   "execution_count": 12,
   "metadata": {},
   "outputs": [
    {
     "data": {
      "text/html": [
       "<div>\n",
       "<style scoped>\n",
       "    .dataframe tbody tr th:only-of-type {\n",
       "        vertical-align: middle;\n",
       "    }\n",
       "\n",
       "    .dataframe tbody tr th {\n",
       "        vertical-align: top;\n",
       "    }\n",
       "\n",
       "    .dataframe thead th {\n",
       "        text-align: right;\n",
       "    }\n",
       "</style>\n",
       "<table border=\"1\" class=\"dataframe\">\n",
       "  <thead>\n",
       "    <tr style=\"text-align: right;\">\n",
       "      <th></th>\n",
       "      <th>A</th>\n",
       "      <th>B</th>\n",
       "      <th>C</th>\n",
       "      <th>D</th>\n",
       "    </tr>\n",
       "  </thead>\n",
       "  <tbody>\n",
       "    <tr>\n",
       "      <th>White Collar Exp</th>\n",
       "      <td>80.538462</td>\n",
       "      <td>80.538462</td>\n",
       "      <td>107.384615</td>\n",
       "      <td>80.538462</td>\n",
       "    </tr>\n",
       "    <tr>\n",
       "      <th>Blue Collar Exp</th>\n",
       "      <td>34.846154</td>\n",
       "      <td>34.846154</td>\n",
       "      <td>46.461538</td>\n",
       "      <td>34.846154</td>\n",
       "    </tr>\n",
       "    <tr>\n",
       "      <th>No Collar Exp</th>\n",
       "      <td>34.615385</td>\n",
       "      <td>34.615385</td>\n",
       "      <td>46.153846</td>\n",
       "      <td>34.615385</td>\n",
       "    </tr>\n",
       "  </tbody>\n",
       "</table>\n",
       "</div>"
      ],
      "text/plain": [
       "                          A          B           C          D\n",
       "White Collar Exp  80.538462  80.538462  107.384615  80.538462\n",
       "Blue Collar Exp   34.846154  34.846154   46.461538  34.846154\n",
       "No Collar Exp     34.615385  34.615385   46.153846  34.615385"
      ]
     },
     "execution_count": 12,
     "metadata": {},
     "output_type": "execute_result"
    }
   ],
   "source": [
    "df2 = pd.DataFrame(expected, index=[\"White Collar Exp\", \"Blue Collar Exp\", \"No Collar Exp\"],\n",
    "                  columns=[\"A\", \"B\", \"C\", \"D\"])\n",
    "df2"
   ]
  },
  {
   "cell_type": "code",
   "execution_count": 13,
   "metadata": {},
   "outputs": [
    {
     "data": {
      "text/html": [
       "<div>\n",
       "<style scoped>\n",
       "    .dataframe tbody tr th:only-of-type {\n",
       "        vertical-align: middle;\n",
       "    }\n",
       "\n",
       "    .dataframe tbody tr th {\n",
       "        vertical-align: top;\n",
       "    }\n",
       "\n",
       "    .dataframe thead th {\n",
       "        text-align: right;\n",
       "    }\n",
       "</style>\n",
       "<table border=\"1\" class=\"dataframe\">\n",
       "  <thead>\n",
       "    <tr style=\"text-align: right;\">\n",
       "      <th></th>\n",
       "      <th>A</th>\n",
       "      <th>B</th>\n",
       "      <th>C</th>\n",
       "      <th>D</th>\n",
       "    </tr>\n",
       "  </thead>\n",
       "  <tbody>\n",
       "    <tr>\n",
       "      <th>Blue Collar</th>\n",
       "      <td>30.00</td>\n",
       "      <td>50.00</td>\n",
       "      <td>51.00</td>\n",
       "      <td>20.00</td>\n",
       "    </tr>\n",
       "    <tr>\n",
       "      <th>Blue Collar Exp</th>\n",
       "      <td>34.85</td>\n",
       "      <td>34.85</td>\n",
       "      <td>46.46</td>\n",
       "      <td>34.85</td>\n",
       "    </tr>\n",
       "    <tr>\n",
       "      <th>No Collar</th>\n",
       "      <td>30.00</td>\n",
       "      <td>40.00</td>\n",
       "      <td>45.00</td>\n",
       "      <td>35.00</td>\n",
       "    </tr>\n",
       "    <tr>\n",
       "      <th>No Collar Exp</th>\n",
       "      <td>34.62</td>\n",
       "      <td>34.62</td>\n",
       "      <td>46.15</td>\n",
       "      <td>34.62</td>\n",
       "    </tr>\n",
       "    <tr>\n",
       "      <th>White Collar</th>\n",
       "      <td>90.00</td>\n",
       "      <td>60.00</td>\n",
       "      <td>104.00</td>\n",
       "      <td>95.00</td>\n",
       "    </tr>\n",
       "    <tr>\n",
       "      <th>White Collar Exp</th>\n",
       "      <td>80.54</td>\n",
       "      <td>80.54</td>\n",
       "      <td>107.38</td>\n",
       "      <td>80.54</td>\n",
       "    </tr>\n",
       "  </tbody>\n",
       "</table>\n",
       "</div>"
      ],
      "text/plain": [
       "                      A      B       C      D\n",
       "Blue Collar       30.00  50.00   51.00  20.00\n",
       "Blue Collar Exp   34.85  34.85   46.46  34.85\n",
       "No Collar         30.00  40.00   45.00  35.00\n",
       "No Collar Exp     34.62  34.62   46.15  34.62\n",
       "White Collar      90.00  60.00  104.00  95.00\n",
       "White Collar Exp  80.54  80.54  107.38  80.54"
      ]
     },
     "execution_count": 13,
     "metadata": {},
     "output_type": "execute_result"
    }
   ],
   "source": [
    "# Concatenating dataframes\n",
    "# Adapted from https://stackoverflow.com/a/44152479\n",
    "all_values = pd.concat([df, df2]).sort_index()\n",
    "all_values.round(2)"
   ]
  },
  {
   "cell_type": "markdown",
   "metadata": {},
   "source": [
    "As with the initial plot, the biggest differences between the observed and expected data are with Blue and White Collar workers in neighbourhoods B and D. According to the statistics measured above, it is highly unlikely that the data in this population sample would have occurred if the variables were independent from one another. There is certainly some kind of statistically significant relationship between the place a persons chooses to reside and their occupation. The nature of this relationship, however, is not discoverable by Chi-squared analysis.[<sup>17</sup>](https://stattrek.com/chi-square-test/independence.aspx) Based on the results of this analysis alone, it cannot be determined that a causal relationship exists between a person's job and the place they live. "
   ]
  },
  {
   "cell_type": "markdown",
   "metadata": {},
   "source": [
    "## References\n",
    "\n",
    "1. Chi-square criteria: https://www.investopedia.com/terms/c/chi-square-statistic.asp\n",
    "2. Stacked bar chart adapted from https://www.shanelynn.ie/bar-plots-in-python-using-pandas-dataframes/\n",
    "3. Chi square null and alternative hypotheses: https://www.statisticssolutions.com/non-parametric-analysis-chi-square/\n",
    "4. Expected values calculation: https://en.wikipedia.org/wiki/Chi-squared_test\n",
    "5. About the Chi square statistic: https://www.statisticshowto.com/probability-and-statistics/chi-square/\n",
    "6. Chi square statistic formula: https://www.statisticshowto.com/wp-content/uploads/2013/09/chi-square-formula.jpg\n",
    "7. P value: https://www.investopedia.com/terms/p/p-value.asp\n",
    "8. Critical value: https://www.statisticssolutions.com/non-parametric-analysis-chi-square/\n",
    "9. Degrees of freedom: https://www.investopedia.com/terms/d/degrees-of-freedom.asp\n",
    "10. Significance level: https://www.statsdirect.com/help/basics/p_values.htm\n",
    "11. Typical significance level values: http://www.stat.yale.edu/Courses/1997-98/101/sigtest.htm\n",
    "12. Significance level and critical value relationship: https://www.statology.org/chi-square-critical-value-python/\n",
    "13. Chi-squared test code adapted from: https://towardsdatascience.com/running-chi-square-tests-in-python-with-die-roll-data-b9903817c51b\n",
    "14. P value significance: https://www.statsdirect.com/help/basics/p_values.htm\n",
    "15. Critical value code adapted from: https://www.statology.org/chi-square-critical-value-python/\n",
    "16. Concatenate dataframes code adapted from: https://stackoverflow.com/a/44152479\n",
    "17. Chi-squared limitation: https://stattrek.com/chi-square-test/independence.aspx"
   ]
  },
  {
   "cell_type": "markdown",
   "metadata": {},
   "source": [
    "***"
   ]
  },
  {
   "cell_type": "markdown",
   "metadata": {},
   "source": [
    "<h1>3. Standard Deviation </h1>\n",
    "\n",
    "Task: The standard deviation of an array of numbers x is calculated using numpy as np.sqrt(np.sum((x - np.mean(x))^2)/len(x)).\n",
    "However, Microsoft Excel has two different versions of the standard deviation calculation, STDEV.P and STDEV.S . The STDEV.P function performs the above calculation but in the STDEV.S calculation the division is by len(x)-1 rather than len(x) . Research these Excel functions, writing a note in a Markdown cell about the difference between them. Then use numpy to perform a simulation demonstrating that the STDEV.S calculation is a better estimate for the standard deviation of a population when performed on a sample. Note that part of this task is to figure out the terminology in the previous sentence."
   ]
  },
  {
   "cell_type": "markdown",
   "metadata": {},
   "source": [
    "The standard deviation (SD) is a measurement of variability that allows us to see how spread out a set of values are from their mean.[<sup>1</sup>](https://www.mathsisfun.com/data/standard-deviation.html) A large SD means that values are quite spread out, while a smaller one indicates they are more bunched together. The formula to calculate the SD is as follows:[<sup>2</sup>](https://www.mathsisfun.com/data/standard-deviation-formulas.html)\n",
    "\n",
    "- Calculate the mean of the data.\n",
    "- Calculate the distance between each value and the mean. \n",
    "- Square each of these numbers and then add them all together.\n",
    "- Divide by the number of data points.\n",
    "- Calculate the square root if this value. \n",
    "\n",
    "$$\\sigma ={\\sqrt {\\frac {\\sum _{i=1}^{n}(x_{i}-{\\overline {x}})^{2}}{N}}}$$\n",
    "\n",
    "This formula works well if applied to a whole population but can be biased if it is used to estimate the SD of a population based on a sample of that population.[<sup>3</sup>](https://statistics.laerd.com/statistical-guides/measures-of-spread-standard-deviation.php) A sample does not contain all the values of a population and so extrapolating its SD can be problematic as it is often underestimated.[<sup>4</sup>](https://en.wikipedia.org/wiki/Unbiased_estimation_of_standard_deviation) An adjustment is made to the above formula to account for this bias:\n",
    "\n",
    "$$s={\\sqrt {\\frac {\\sum _{i=1}^{n}(x_{i}-{\\overline {x}})^{2}}{n-1}}}$$\n",
    "\n",
    "This is called the Bessel's Correction and involves subtracting 1 from the number of data points prior to division into the sum of the squared differences.[<sup>5</sup>](https://en.wikipedia.org/wiki/Bessel%27s_correction) Excel has a function for each of these SD calculations: STDEV.P calculates the SD of a population and STDEV.S calculates the SD for a sample.[<sup>6</sup>](https://www.exceltip.com/statistical-formulas/how-to-use-excel-stdev-p-function.html) The values returned by STDEV.S will always be larger than the values returned by STDEV.P when used on the same data since it applies Bessel's correction, which accounts for the possibility there is more variation in the population than what is represented by the sample.[<sup>7</sup>](https://www.le.ac.uk/oerresources/ssds/numeracyskills/page_20.htm) The accompanying Excel spreadsheet demonstrates these functions in action (stdev.xlsx) and the image below shows some of the results\n",
    "\n",
    "![excel_example](stdev_example.jpg)\n",
    "\n",
    "In this example, a population of 50 numbers is generated using the RANDARRAY function. Sample sizes of the first 5, 10 and 20 values are taken from this population and both the STDEV.P and STDEV.S functions are applied to them. In each case the STDEV.S value is closer to the actual population's SD than the STDEV.P value, which seems to support the idea that it provides a better estimate. However, this is not consistently observed as the example below show that each of the sample population estimates exceed the population's SD and the results of STDEV.P appear closer to it than those of STDEV.S. \n",
    "\n",
    "![excel_example](stdev_example2.jpg)\n",
    "\n",
    "This can happen when the values chosen for a sample are not very representative of the population.[<sup>8</sup>](https://www.investopedia.com/ask/answers/042915/whats-difference-between-representative-sample-and-random-sample.asp) The estimation of a population's SD is based on the mean of the sample and not the mean of the population and so the values chosen for the sample will have a significant effect on the figures. Calculating the standard error can indicate the reliability of the sample's mean, which impacts the accuracy of the SD.[<sup>9</sup>](https://www.greenbook.org/marketing-research/how-to-interpret-standard-deviation-and-standard-error-in-survey-research-03377) If this value is large, it indicates the sample is not very representative of the population but as the sample size increases, it gets closer to the size of the population and so the standard error should decrease.[<sup>10</sup>](https://s4be.cochrane.org/blog/2018/09/26/a-beginners-guide-to-standard-deviation-and-standard-error/) To illustrate this, a simple example is given below:"
   ]
  },
  {
   "cell_type": "code",
   "execution_count": 3,
   "metadata": {},
   "outputs": [
    {
     "name": "stdout",
     "output_type": "stream",
     "text": [
      "Population mean: 11.0\n",
      "Population SD: 5.744562646538029\n",
      "\n",
      "Sample 1 mean: 14.0\n",
      "Sample 1 SD: 8.16496580927726\n",
      "\n",
      "Sample 2 mean: 10.5\n",
      "Sample 2 SD: 5.972157622389639\n",
      "\n",
      "Sample 1 standard error: 4.08248290463863\n",
      "Sample 2 standard error: 2.9860788111948193\n"
     ]
    }
   ],
   "source": [
    "# Population\n",
    "p = np.array([2, 4, 6, 8, 10, 12, 14, 16, 18, 20])\n",
    "\n",
    "# Population mean and SD\n",
    "p_mean = np.mean(p)\n",
    "p_sdev = np.sqrt(np.sum((p - p_mean)**2)/len(p))\n",
    "\n",
    "# First sample\n",
    "s = np.array([2, 16, 18, 20])\n",
    "\n",
    "# First sample mean and SD (calculated with sample SD formula)\n",
    "s_mean = np.mean(s)\n",
    "s_sdev = np.sqrt(np.sum((s - s_mean)**2)/(len(s)-1))\n",
    "\n",
    "# Second sample\n",
    "s2 = np.array([4, 8, 12, 18])\n",
    "\n",
    "# Second sample mean and SD (calculated with sample SD formula)\n",
    "s2_mean = np.mean(s2)\n",
    "s2_sdev = np.sqrt(np.sum((s2 - s2_mean)**2)/(len(s2)-1))\n",
    "\n",
    "# Calculating the standard errors of the samples\n",
    "s_error = s_sdev/(np.sqrt(len(s)))\n",
    "s2_error = s2_sdev/(np.sqrt(len(s2)))\n",
    "\n",
    "# Printing the results\n",
    "print(f\"Population mean: {p_mean}\")\n",
    "print(f\"Population SD: {p_sdev}\")\n",
    "print(f\"\\nSample 1 mean: {s_mean}\")\n",
    "print(f\"Sample 1 SD: {s_sdev}\")\n",
    "print(f\"\\nSample 2 mean: {s2_mean}\")\n",
    "print(f\"Sample 2 SD: {s2_sdev}\")\n",
    "print(f\"\\nSample 1 standard error: {s_error}\")\n",
    "print(f\"Sample 2 standard error: {s2_error}\")"
   ]
  },
  {
   "cell_type": "markdown",
   "metadata": {},
   "source": [
    "The first sample only contains values from the either end of the population, resulting in a larger mean and SD. The second sample is more spread out and is thus more in line with the actual mean and SD of the population. The higher standard error value indicates that sample 1 is a worse representation of the population than sample 2 and so the statistics of sample 2 should be considered a closer representation of the population parameters than sample 1.\n",
    "\n",
    "Bessel's correction is useful if the sample of the population is of a good size and you're trying to approximate the parameters of the population; extremely small samples can be inaccurate (although possibly still closer to the population SD than without the correction), while large ones may be so close to the actual population size or so representative of the variance that the correction is unnecessary.[<sup>11</sup>](https://www.statisticshowto.com/bessels-correction/) Indeed, the Microsoft documentation for Excel's STDEV.P function states that STDEV.P and STDEV.S will return approximately equal values with large sample sizes.[<sup>12</sup>](https://support.microsoft.com/en-us/office/stdev-p-function-6e917c05-31a0-496f-ade7-4f4e7462f285) "
   ]
  },
  {
   "cell_type": "markdown",
   "metadata": {},
   "source": [
    "Below I will investigate the application of a the population SD formula and the sample SD formula to samples of a population to see which is a better estimate of the population's SD. For simplicity, and because we are trying to mimic the behaviour of Excel's formulas, I will refer to them as STDEV.P and STDEV.S.\n",
    "\n",
    "In the function below a sample of size n is taken from the population (p). STDEV.P and STDEV.S functions are applied to the sample and the values of each are subtracted from the SD of the population to see which is closer. The absolute difference is taken to avoid negative numbers. The function returns True if the STDEV.S function is more accurate and False if the STDEV.P function is more accurate. "
   ]
  },
  {
   "cell_type": "code",
   "execution_count": 15,
   "metadata": {},
   "outputs": [],
   "source": [
    "# Function to create samples and check if the STDEV.P or STDEV.S is closer to the populations SD\n",
    "def compare_sdev(p, n):  \n",
    "    \n",
    "    # SD of the whole population (p)\n",
    "    whole_pop_sdev = np.sqrt(np.sum((p - np.mean(p))**2)/len(p))\n",
    "    \n",
    "    # Sample population of size n - replace is set to False so values are only selected once\n",
    "    sample = np.random.choice(p, size = n, replace=False)\n",
    "    \n",
    "    # Run STDEV.P and STDEV.S on the sample\n",
    "    pop_sdev = np.sqrt(np.sum((sample - np.mean(sample))**2)/len(sample))\n",
    "    samp_sdev = np.sqrt(np.sum((sample - np.mean(sample))**2)/(len(sample)-1))\n",
    "    \n",
    "    # Calculate the absolute difference between whole population SD and those calculated above\n",
    "    pop_diff = abs(whole_pop_sdev - pop_sdev)\n",
    "    samp_diff = abs(whole_pop_sdev - samp_sdev)   \n",
    "    \n",
    "    # Return True if the STDEV.P value is greater than than the STDEV.S value or False otherwise\n",
    "    if pop_diff >= samp_diff:\n",
    "        return True\n",
    "    elif samp_diff > pop_diff:\n",
    "        return False"
   ]
  },
  {
   "cell_type": "markdown",
   "metadata": {},
   "source": [
    "Below another function is created which takes the population and a list of sample sizes to be passed to compare_sdev(). It also takes a parameter called num which dictates how many times compare_sdev() should be run for each sample size. Each time STDEV.P or  STDEV.S is closer to the population's SD, it is recorded and the results are plotted.[<sup>13</sup>](https://python-graph-gallery.com/11-grouped-barplot/)"
   ]
  },
  {
   "cell_type": "code",
   "execution_count": 16,
   "metadata": {},
   "outputs": [],
   "source": [
    "# Function to run compare_sdev several times\n",
    "def run_compare(pop, nlist, num):\n",
    "    \n",
    "    # Record the number of times STDEV.P or STDEV.S was closer to the population SD for each sample size\n",
    "    p_closerlst = []\n",
    "    s_closerlst = []\n",
    "    \n",
    "    # Run for different sample sizes\n",
    "    for x in (nlist): \n",
    "        # Variable to record number of times STDEV.P or STDEV.S was closer to the population SD\n",
    "        p_closer = 0\n",
    "        s_closer = 0\n",
    "\n",
    "        # Run compare_sdev() function num times\n",
    "        for i in range(num):\n",
    "            run_func = compare_sdev(pop, x)\n",
    "            \n",
    "            # Increment vairables based on function return\n",
    "            if run_func is True:\n",
    "                s_closer += 1\n",
    "            elif run_func is False:\n",
    "                p_closer += 1\n",
    "        \n",
    "        # Print results of STDEV.S\n",
    "        print(f\"n = {x}: STDEV.S is more accurate {s_closer} times out of {num}\")\n",
    "        \n",
    "        # Append results to lists for each sample size\n",
    "        p_closerlst.append(p_closer)\n",
    "        s_closerlst.append(s_closer)\n",
    "\n",
    "    # Plotting the results     \n",
    "    # Adapted from https://python-graph-gallery.com/11-grouped-barplot/\n",
    "    \n",
    "    # Set figure size\n",
    "    plt.figure(figsize=(12, 8))\n",
    "    \n",
    "    # Set bar width\n",
    "    barWidth = 0.4\n",
    "\n",
    "    # Set position of bar on X axis\n",
    "    r1 = np.arange(len(p_closerlst))\n",
    "    r2 = [x + barWidth for x in r1]\n",
    "\n",
    "    # Create the plot\n",
    "    plt.bar(r1, p_closerlst, color='orange', width=barWidth, edgecolor='white', label='STDEV.P')\n",
    "    plt.bar(r2, s_closerlst, color='green', width=barWidth, edgecolor='white', label='STDEV.S')\n",
    "\n",
    "    # Add xticks to the middle of the group bars\n",
    "    plt.xlabel('Sample Size')\n",
    "    plt.xticks([r + barWidth/2 for r in range(len(p_closerlst))], nlist)\n",
    "\n",
    "    # Add title and legend\n",
    "    plt.title(\"STDEV.P versus STDEV.S Standard Deviation Accuracy\")\n",
    "    plt.legend()\n",
    "    \n",
    "    # Display plot \n",
    "    plt.show()"
   ]
  },
  {
   "cell_type": "markdown",
   "metadata": {},
   "source": [
    "A small population (N=100) of normally distributed values with a mean of 100 and a SD of 20 is created along with a list of sample sizes and both are passed to the run_compare() function. Note that, while the SD is set to 20 when creating the population, the actual SD will be a little bit under or over this figure. "
   ]
  },
  {
   "cell_type": "code",
   "execution_count": 17,
   "metadata": {},
   "outputs": [
    {
     "name": "stdout",
     "output_type": "stream",
     "text": [
      "n = 5: STDEV.S is more accurate 662 times out of 1000\n",
      "n = 10: STDEV.S is more accurate 607 times out of 1000\n",
      "n = 20: STDEV.S is more accurate 580 times out of 1000\n",
      "n = 30: STDEV.S is more accurate 549 times out of 1000\n",
      "n = 40: STDEV.S is more accurate 553 times out of 1000\n",
      "n = 50: STDEV.S is more accurate 499 times out of 1000\n",
      "n = 60: STDEV.S is more accurate 477 times out of 1000\n"
     ]
    },
    {
     "data": {
      "image/png": "[encoded data removed]",
      "text/plain": [
       "<Figure size 864x576 with 1 Axes>"
      ]
     },
     "metadata": {
      "needs_background": "light"
     },
     "output_type": "display_data"
    }
   ],
   "source": [
    "# Set mean and SD\n",
    "mean = 100\n",
    "sd = 20\n",
    "\n",
    "# Create population from a normal distribution\n",
    "pop = np.random.normal(mean, sd, size=100)\n",
    "\n",
    "# Create list of samples sizes to pull from the population\n",
    "xlist = [5, 10, 20, 30, 40, 50, 60]\n",
    "\n",
    "# Pass these values to the run_compare() function and run compare_sdev() 1000 times\n",
    "run_compare(pop, xlist, 1000)"
   ]
  },
  {
   "cell_type": "markdown",
   "metadata": {},
   "source": [
    "While different results are returned every time the above code is run, there is an apparent trend: With the smaller sample sizes, STDEV.S is closer to the population's SD than STDEV.P. The value may not be a very accurate estimation, but generally it's more accurate than that returned by STDEV.P. As the sample sizes get larger, the differences between STDEV.P and STDEV.S shrink as the sample contains more values and thus becomes a better representation of the whole population.\n",
    "\n",
    "Below, I run the code again with a larger population that has a different mean and SD. "
   ]
  },
  {
   "cell_type": "code",
   "execution_count": 18,
   "metadata": {},
   "outputs": [
    {
     "name": "stdout",
     "output_type": "stream",
     "text": [
      "n = 10: STDEV.S is more accurate 613 times out of 1000\n",
      "n = 50: STDEV.S is more accurate 533 times out of 1000\n",
      "n = 100: STDEV.S is more accurate 546 times out of 1000\n",
      "n = 500: STDEV.S is more accurate 506 times out of 1000\n",
      "n = 1000: STDEV.S is more accurate 480 times out of 1000\n",
      "n = 3000: STDEV.S is more accurate 487 times out of 1000\n",
      "n = 5000: STDEV.S is more accurate 481 times out of 1000\n"
     ]
    },
    {
     "data": {
      "image/png": "[encoded data removed]",
      "text/plain": [
       "<Figure size 864x576 with 1 Axes>"
      ]
     },
     "metadata": {
      "needs_background": "light"
     },
     "output_type": "display_data"
    }
   ],
   "source": [
    "mean2 = 500\n",
    "sd2 = 200\n",
    "\n",
    "pop2 = np.random.normal(mean2, sd2, size=10000)\n",
    "ylist = [10, 50, 100, 500, 1000, 3000, 5000]\n",
    "run_compare(pop2, ylist, 1000)"
   ]
  },
  {
   "cell_type": "markdown",
   "metadata": {},
   "source": [
    "The larger population and sample sizes make the differences between STDEV.P and STDEV.S shrink - except for smaller sample sizes. The examples above demonstrate that for relatively small sample sizes, STDEV.S provides a better estimate for the population's SD than STDEV.P but the differences can become negligible as the sample sizes becomes a greater proportion of the population.  "
   ]
  },
  {
   "cell_type": "markdown",
   "metadata": {},
   "source": [
    "## References\n",
    "\n",
    "1. Standard deviation definition: https://www.mathsisfun.com/data/standard-deviation.html\n",
    "2. Standard deviation calculation: https://www.mathsisfun.com/data/standard-deviation-formulas.html\n",
    "3. Standard deviation bias with sample: https://statistics.laerd.com/statistical-guides/measures-of-spread-standard-deviation.php\n",
    "4. Underestimated standard deviation: https://en.wikipedia.org/wiki/Unbiased_estimation_of_standard_deviation\n",
    "5. Bessel's Correction: https://en.wikipedia.org/wiki/Bessel%27s_correction\n",
    "6. Difference between STDEV.P and STDEV.S: https://www.exceltip.com/statistical-formulas/how-to-use-excel-stdev-p-function.html\n",
    "7. STDEV.S estimation larger than STDEV.P to account for variation: https://www.le.ac.uk/oerresources/ssds/numeracyskills/page_20.htm\n",
    "8. Representative sample: https://www.investopedia.com/ask/answers/042915/whats-difference-between-representative-sample-and-random-sample.asp\n",
    "9. Reliability of sample's mean: https://www.greenbook.org/marketing-research/how-to-interpret-standard-deviation-and-standard-error-in-survey-research-03377\n",
    "10. Standard error decreases as sample size increases: https://s4be.cochrane.org/blog/2018/09/26/a-beginners-guide-to-standard-deviation-and-standard-error/\n",
    "11. When to use Bessel's Correction: https://www.statisticshowto.com/bessels-correction/\n",
    "12. STDEV.P and STDEV.S with large samples: https://support.microsoft.com/en-us/office/stdev-p-function-6e917c05-31a0-496f-ade7-4f4e7462f285\n",
    "13. Plotting adapted from: https://python-graph-gallery.com/11-grouped-barplot/"
   ]
  },
  {
   "cell_type": "markdown",
   "metadata": {},
   "source": [
    "***"
   ]
  },
  {
   "cell_type": "markdown",
   "metadata": {},
   "source": [
    "# 4. K-Means Clustering and Iris Data Set\n",
    "\n",
    "Use scikit-learn to apply k-means clustering to Fisher’s famous Iris data set. You will easily obtain a copy of the data set online. Explain in a Markdown cell how your code works and how accurate it might be, and then explain how your model could be used to make predictions of species of iris."
   ]
  },
  {
   "cell_type": "markdown",
   "metadata": {},
   "source": [
    "The Iris data set is a multivariate data set consisting of the sepal and petal measurements of 150 iris flowers, 50 for each of three different species, setosa, versicolor and virginica. Below the data set is loaded, added to a dataframe and a sample is displayed.[<sup>1</sup>](http://www.philipkalinda.com/ds3.html) "
   ]
  },
  {
   "cell_type": "code",
   "execution_count": 19,
   "metadata": {},
   "outputs": [
    {
     "data": {
      "text/html": [
       "<div>\n",
       "<style scoped>\n",
       "    .dataframe tbody tr th:only-of-type {\n",
       "        vertical-align: middle;\n",
       "    }\n",
       "\n",
       "    .dataframe tbody tr th {\n",
       "        vertical-align: top;\n",
       "    }\n",
       "\n",
       "    .dataframe thead th {\n",
       "        text-align: right;\n",
       "    }\n",
       "</style>\n",
       "<table border=\"1\" class=\"dataframe\">\n",
       "  <thead>\n",
       "    <tr style=\"text-align: right;\">\n",
       "      <th></th>\n",
       "      <th>sepal length (cm)</th>\n",
       "      <th>sepal width (cm)</th>\n",
       "      <th>petal length (cm)</th>\n",
       "      <th>petal width (cm)</th>\n",
       "      <th>species_id</th>\n",
       "      <th>species</th>\n",
       "    </tr>\n",
       "  </thead>\n",
       "  <tbody>\n",
       "    <tr>\n",
       "      <th>124</th>\n",
       "      <td>6.7</td>\n",
       "      <td>3.3</td>\n",
       "      <td>5.7</td>\n",
       "      <td>2.1</td>\n",
       "      <td>2</td>\n",
       "      <td>virginica</td>\n",
       "    </tr>\n",
       "    <tr>\n",
       "      <th>83</th>\n",
       "      <td>6.0</td>\n",
       "      <td>2.7</td>\n",
       "      <td>5.1</td>\n",
       "      <td>1.6</td>\n",
       "      <td>1</td>\n",
       "      <td>versicolor</td>\n",
       "    </tr>\n",
       "    <tr>\n",
       "      <th>50</th>\n",
       "      <td>7.0</td>\n",
       "      <td>3.2</td>\n",
       "      <td>4.7</td>\n",
       "      <td>1.4</td>\n",
       "      <td>1</td>\n",
       "      <td>versicolor</td>\n",
       "    </tr>\n",
       "    <tr>\n",
       "      <th>118</th>\n",
       "      <td>7.7</td>\n",
       "      <td>2.6</td>\n",
       "      <td>6.9</td>\n",
       "      <td>2.3</td>\n",
       "      <td>2</td>\n",
       "      <td>virginica</td>\n",
       "    </tr>\n",
       "    <tr>\n",
       "      <th>27</th>\n",
       "      <td>5.2</td>\n",
       "      <td>3.5</td>\n",
       "      <td>1.5</td>\n",
       "      <td>0.2</td>\n",
       "      <td>0</td>\n",
       "      <td>setosa</td>\n",
       "    </tr>\n",
       "    <tr>\n",
       "      <th>76</th>\n",
       "      <td>6.8</td>\n",
       "      <td>2.8</td>\n",
       "      <td>4.8</td>\n",
       "      <td>1.4</td>\n",
       "      <td>1</td>\n",
       "      <td>versicolor</td>\n",
       "    </tr>\n",
       "    <tr>\n",
       "      <th>106</th>\n",
       "      <td>4.9</td>\n",
       "      <td>2.5</td>\n",
       "      <td>4.5</td>\n",
       "      <td>1.7</td>\n",
       "      <td>2</td>\n",
       "      <td>virginica</td>\n",
       "    </tr>\n",
       "    <tr>\n",
       "      <th>58</th>\n",
       "      <td>6.6</td>\n",
       "      <td>2.9</td>\n",
       "      <td>4.6</td>\n",
       "      <td>1.3</td>\n",
       "      <td>1</td>\n",
       "      <td>versicolor</td>\n",
       "    </tr>\n",
       "    <tr>\n",
       "      <th>110</th>\n",
       "      <td>6.5</td>\n",
       "      <td>3.2</td>\n",
       "      <td>5.1</td>\n",
       "      <td>2.0</td>\n",
       "      <td>2</td>\n",
       "      <td>virginica</td>\n",
       "    </tr>\n",
       "    <tr>\n",
       "      <th>51</th>\n",
       "      <td>6.4</td>\n",
       "      <td>3.2</td>\n",
       "      <td>4.5</td>\n",
       "      <td>1.5</td>\n",
       "      <td>1</td>\n",
       "      <td>versicolor</td>\n",
       "    </tr>\n",
       "  </tbody>\n",
       "</table>\n",
       "</div>"
      ],
      "text/plain": [
       "     sepal length (cm)  sepal width (cm)  petal length (cm)  petal width (cm)  \\\n",
       "124                6.7               3.3                5.7               2.1   \n",
       "83                 6.0               2.7                5.1               1.6   \n",
       "50                 7.0               3.2                4.7               1.4   \n",
       "118                7.7               2.6                6.9               2.3   \n",
       "27                 5.2               3.5                1.5               0.2   \n",
       "76                 6.8               2.8                4.8               1.4   \n",
       "106                4.9               2.5                4.5               1.7   \n",
       "58                 6.6               2.9                4.6               1.3   \n",
       "110                6.5               3.2                5.1               2.0   \n",
       "51                 6.4               3.2                4.5               1.5   \n",
       "\n",
       "     species_id     species  \n",
       "124           2   virginica  \n",
       "83            1  versicolor  \n",
       "50            1  versicolor  \n",
       "118           2   virginica  \n",
       "27            0      setosa  \n",
       "76            1  versicolor  \n",
       "106           2   virginica  \n",
       "58            1  versicolor  \n",
       "110           2   virginica  \n",
       "51            1  versicolor  "
      ]
     },
     "execution_count": 19,
     "metadata": {},
     "output_type": "execute_result"
    }
   ],
   "source": [
    "from sklearn import datasets\n",
    "import seaborn as sns \n",
    "import sklearn.cluster as skcl\n",
    "\n",
    "# Import Iris data set\n",
    "iris = datasets.load_iris()\n",
    "\n",
    "# Add data to a dataframe\n",
    "iris_df = pd.DataFrame(data= iris.data, columns= iris.feature_names)\n",
    "\n",
    "# Function to add species names to dataframe \n",
    "# Adapted from http://www.philipkalinda.com/ds3.html\n",
    "def species_name(target):\n",
    "    if target == 0:\n",
    "        return iris.target_names[0]\n",
    "    elif target == 1:\n",
    "        return iris.target_names[1]\n",
    "    elif target == 2:\n",
    "        return iris.target_names[2]\n",
    "\n",
    "# Add species names and target numbers to the dataframe\n",
    "iris_df['species_id'] = iris.target\n",
    "iris_df['species'] = [species_name(x) for x in iris.target]\n",
    "\n",
    "iris_df.sample(10)"
   ]
  },
  {
   "cell_type": "markdown",
   "metadata": {},
   "source": [
    "K-Means Clustering (KMC) is an unsupervised machine learning technique that breaks data up into a number (k) of clusters of similar objects around a central mean (known as the cluster center/centroid).[<sup>2</sup>](https://en.wikipedia.org/wiki/K-means_clustering) The algorithm works as follows:[<sup>3</sup>](https://towardsdatascience.com/how-does-k-means-clustering-in-machine-learning-work-fdaaaf5acfa0)\n",
    "\n",
    "- Create a specified number of centroids, the same as the number of clusters you want from the data. \n",
    "    - Centroids can be chosen randomly or with k-means++. Random initial values for centroids can often result in poor clusterings whereas kmeans++ spreads out the initial centroids based on the data being used.[<sup>4</sup>](https://en.wikipedia.org/wiki/K-means%2B%2B)  The default centroid initialisation in sklearn is k-means++.[<sup>5</sup>](https://scikit-learn.org/stable/modules/generated/sklearn.cluster.KMeans.html)\n",
    "- Measure the distance between each data point and each centroid. \n",
    "- Group data points together with their closest centroid.\n",
    "- Calculate new centroids by using the sum of the points in each cluster divided by the number of values.\n",
    "- Each data point is again grouped with the nearest new centroid.\n",
    "- Repeat the steps until the specified number of iterations has been reached. In sklearn's algorithm the steps are run ten times by default the value with the lowest sum of squared errors (SSE) is returned.[<sup>6</sup>](https://realpython.com/k-means-clustering-python/) The SSE, referred to as inertia in KMC, measures the differences between each centroid and the data points.[<sup>7</sup>](https://scikit-learn.org/stable/modules/clustering.html)\n",
    "\n",
    "Being unsupervised, KMC doesn't need to be trained by labelled data but rather processes raw data and draws a predetermined number of clusters from it. However, every entry in the Iris dataset is labelled by species of flower, so it could be said that \"clusters\" already exist. This dataset is visualised below. "
   ]
  },
  {
   "cell_type": "code",
   "execution_count": 20,
   "metadata": {},
   "outputs": [
    {
     "data": {
      "image/png": "[encoded data removed]",
      "text/plain": [
       "<Figure size 804.75x720 with 20 Axes>"
      ]
     },
     "metadata": {
      "needs_background": "light"
     },
     "output_type": "display_data"
    }
   ],
   "source": [
    "# Removing species ID for plotting\n",
    "iris2 = iris_df.drop(['species_id'], axis=1)\n",
    "\n",
    "# Plot measurements by species\n",
    "iris_plot = sns.pairplot(iris2, hue = 'species')\n",
    "   \n",
    "plt.show()"
   ]
  },
  {
   "cell_type": "markdown",
   "metadata": {},
   "source": [
    "From these plots, one cluster is certainly quite distinguishable from the others, the blue dots representing the setosa iris. However, versicolor and virginica seem more entangled, particularly in terms of sepal measurements. Given how KMC works, it seems like it would be very difficult to accurately cluster these measurements correctly around a central mean."
   ]
  },
  {
   "cell_type": "code",
   "execution_count": 21,
   "metadata": {},
   "outputs": [
    {
     "data": {
      "image/png": "[encoded data removed]",
      "text/plain": [
       "<Figure size 444.75x360 with 1 Axes>"
      ]
     },
     "metadata": {
      "needs_background": "light"
     },
     "output_type": "display_data"
    }
   ],
   "source": [
    "# Closer look at sepal measurements.\n",
    "sns.FacetGrid(iris2, hue = 'species', height=5).map(plt.scatter, 'sepal length (cm)', 'sepal width (cm)').add_legend()\n",
    "plt.show()"
   ]
  },
  {
   "cell_type": "markdown",
   "metadata": {},
   "source": [
    "Before beginning KMC analysis, the iris data set is split in the data (the measurements of each flower) and the targets (the species of flower).[<sup>8</sup>](https://medium.com/@belen.sanchez27/predicting-iris-flower-species-with-k-means-clustering-in-python-f6e46806aaee) Rather than by name, the species is represented numerically:\n",
    "- 0 = setosa\n",
    "- 1 = versicolor\n",
    "- 2 = virginica\n",
    "\n",
    "Unlike supervised machine learning algorithms, such as K-Nearest Neighbours which I have previously applied to the iris data set,[<sup>9</sup>](https://github.com/jennifer-ryan/iris-data-set-project) the data does not need to be split into training and testing data as it is attempting to make clusters from raw data and not trying to assign the data to known labels.[<sup>10</sup>](https://www.freecodecamp.org/news/how-to-build-and-train-k-nearest-neighbors-ml-models-in-python/)"
   ]
  },
  {
   "cell_type": "code",
   "execution_count": 22,
   "metadata": {},
   "outputs": [
    {
     "data": {
      "text/plain": [
       "array([[5.1, 3.5, 1.4, 0.2],\n",
       "       [4.9, 3. , 1.4, 0.2],\n",
       "       [4.7, 3.2, 1.3, 0.2],\n",
       "       [4.6, 3.1, 1.5, 0.2],\n",
       "       [5. , 3.6, 1.4, 0.2],\n",
       "       [5.4, 3.9, 1.7, 0.4],\n",
       "       [4.6, 3.4, 1.4, 0.3],\n",
       "       [5. , 3.4, 1.5, 0.2],\n",
       "       [4.4, 2.9, 1.4, 0.2],\n",
       "       [4.9, 3.1, 1.5, 0.1]])"
      ]
     },
     "execution_count": 22,
     "metadata": {},
     "output_type": "execute_result"
    }
   ],
   "source": [
    "# Iris data\n",
    "X = iris.data\n",
    "# Showing first 10 \n",
    "X[:10]"
   ]
  },
  {
   "cell_type": "code",
   "execution_count": 23,
   "metadata": {},
   "outputs": [
    {
     "data": {
      "text/plain": [
       "array([0, 0, 0, 0, 0, 0, 0, 0, 0, 0, 0, 0, 0, 0, 0, 0, 0, 0, 0, 0, 0, 0,\n",
       "       0, 0, 0, 0, 0, 0, 0, 0, 0, 0, 0, 0, 0, 0, 0, 0, 0, 0, 0, 0, 0, 0,\n",
       "       0, 0, 0, 0, 0, 0, 1, 1, 1, 1, 1, 1, 1, 1, 1, 1, 1, 1, 1, 1, 1, 1,\n",
       "       1, 1, 1, 1, 1, 1, 1, 1, 1, 1, 1, 1, 1, 1, 1, 1, 1, 1, 1, 1, 1, 1,\n",
       "       1, 1, 1, 1, 1, 1, 1, 1, 1, 1, 1, 1, 2, 2, 2, 2, 2, 2, 2, 2, 2, 2,\n",
       "       2, 2, 2, 2, 2, 2, 2, 2, 2, 2, 2, 2, 2, 2, 2, 2, 2, 2, 2, 2, 2, 2,\n",
       "       2, 2, 2, 2, 2, 2, 2, 2, 2, 2, 2, 2, 2, 2, 2, 2, 2, 2])"
      ]
     },
     "execution_count": 23,
     "metadata": {},
     "output_type": "execute_result"
    }
   ],
   "source": [
    "# Species/target\n",
    "iris.target"
   ]
  },
  {
   "cell_type": "markdown",
   "metadata": {},
   "source": [
    "It is important to determine how many clusters should be drawn from the data. In the case of the iris dataset, this may seem obvious as the data represents three species. However, it is best practice to determine the optimal number of clusters that works for the raw data.[<sup>11</sup>](https://realpython.com/k-means-clustering-python/) One of the most popular ways to do this is with the Elbow Method.[<sup>12</sup>](https://heartbeat.fritz.ai/k-means-clustering-using-sklearn-and-python-4a054d67b187) This runs KMC on the data for several values of k and plots the SSE for each one. The optimal value for k occurs at the \"joint\" of the elbow, where both the values of k and the SSE are relatively low. Increasing the value of k at this stage is not considered beneficial enough to be necessary.[<sup>13</sup>](https://stackoverflow.com/a/41525972)"
   ]
  },
  {
   "cell_type": "code",
   "execution_count": 24,
   "metadata": {},
   "outputs": [
    {
     "data": {
      "image/png": "[encoded data removed]",
      "text/plain": [
       "<Figure size 432x288 with 1 Axes>"
      ]
     },
     "metadata": {
      "needs_background": "light"
     },
     "output_type": "display_data"
    }
   ],
   "source": [
    "# Elbow method \n",
    "# Adapted from https://heartbeat.fritz.ai/k-means-clustering-using-sklearn-and-python-4a054d67b187\n",
    "Error =[]\n",
    "\n",
    "# Checking values of k from 1-10\n",
    "for i in range(1, 11):\n",
    "    # Initialise KMC model\n",
    "    kmeans = skcl.KMeans(n_clusters = i)\n",
    "    # Fit the model to the iris data\n",
    "    kmeans.fit(X)\n",
    "    # Sum of distances between values and centroids\n",
    "    Error.append(kmeans.inertia_)\n",
    "\n",
    "# Plotting the elbow method\n",
    "plt.plot(range(1, 11), Error)\n",
    "plt.title('Elbow method')\n",
    "plt.xlabel('No. of clusters')\n",
    "plt.ylabel('Error')\n",
    "plt.show()"
   ]
  },
  {
   "cell_type": "markdown",
   "metadata": {},
   "source": [
    "Using KMC with just one cluster, the SSE is very large as all data is grouped with a single centroid, resulting in large distances between it and every data point. After three clusters, the SSE does not appear to shrink enough to justify creating another cluster. The elbow method therefore visually demonstrates that the best value of k for the iris data is probably three, which thankfully lines up with the number of species in the data set. Using this knowledge, KMC is run on the iris data.\n",
    "\n",
    "First an instance of a KMC model is created with the specified number of clusters. All other parameters are left with the default values. This model is then fitted to the data."
   ]
  },
  {
   "cell_type": "code",
   "execution_count": 25,
   "metadata": {},
   "outputs": [
    {
     "data": {
      "text/plain": [
       "KMeans(n_clusters=3)"
      ]
     },
     "execution_count": 25,
     "metadata": {},
     "output_type": "execute_result"
    }
   ],
   "source": [
    "# Create an instance of k-means with 3 clusters\n",
    "kmeans = skcl.KMeans(n_clusters=3)\n",
    "\n",
    "# Fit the model to the iris data\n",
    "kmeans.fit(X)"
   ]
  },
  {
   "cell_type": "markdown",
   "metadata": {},
   "source": [
    "Below shows the target labels of the original data set followed by the labels assigned to the raw data by KMC. It is worth noting that KMC will not necessarily assign the same values (0, 1, 2) to the clusters as the original but the order of the values will be the same, i.e. if the first 50 values in the original targets are 0 and the first 50 values in the model's prediction are 1, these are all referring to the same data points and should be considered the same classification. This is the case below as the first species in the data set, setosa, should be successfully clustered together given that it's quite distinct from the other two species. It is likely that the rest of the numbers in the predicted values are a bit mixed up, much like the data of versicolour and virginica were in the plots above.    "
   ]
  },
  {
   "cell_type": "code",
   "execution_count": 26,
   "metadata": {},
   "outputs": [
    {
     "name": "stdout",
     "output_type": "stream",
     "text": [
      "Original target values:\n",
      "[0 0 0 0 0 0 0 0 0 0 0 0 0 0 0 0 0 0 0 0 0 0 0 0 0 0 0 0 0 0 0 0 0 0 0 0 0\n",
      " 0 0 0 0 0 0 0 0 0 0 0 0 0 1 1 1 1 1 1 1 1 1 1 1 1 1 1 1 1 1 1 1 1 1 1 1 1\n",
      " 1 1 1 1 1 1 1 1 1 1 1 1 1 1 1 1 1 1 1 1 1 1 1 1 1 1 2 2 2 2 2 2 2 2 2 2 2\n",
      " 2 2 2 2 2 2 2 2 2 2 2 2 2 2 2 2 2 2 2 2 2 2 2 2 2 2 2 2 2 2 2 2 2 2 2 2 2\n",
      " 2 2]\n",
      "\n",
      "Model's predicted values:\n",
      "[1 1 1 1 1 1 1 1 1 1 1 1 1 1 1 1 1 1 1 1 1 1 1 1 1 1 1 1 1 1 1 1 1 1 1 1 1\n",
      " 1 1 1 1 1 1 1 1 1 1 1 1 1 2 2 0 2 2 2 2 2 2 2 2 2 2 2 2 2 2 2 2 2 2 2 2 2\n",
      " 2 2 2 0 2 2 2 2 2 2 2 2 2 2 2 2 2 2 2 2 2 2 2 2 2 2 0 2 0 0 0 0 2 0 0 0 0\n",
      " 0 0 2 2 0 0 0 0 2 0 2 0 2 0 0 2 2 0 0 0 0 0 2 0 0 0 0 2 0 0 0 2 0 0 0 2 0\n",
      " 0 2]\n"
     ]
    }
   ],
   "source": [
    "# Target values from original data\n",
    "print(\"Original target values:\")\n",
    "print(iris.target)\n",
    "\n",
    "# Clusters each data point was assigned to\n",
    "print(\"\\nModel's predicted values:\")\n",
    "print(kmeans.labels_)"
   ]
  },
  {
   "cell_type": "markdown",
   "metadata": {},
   "source": [
    "The values above have been cross-tabulated to check the accuracy below. This confirms that all setosa data was correctly assigned to the same cluster but versicolour and virginica have been mislabelled in several cases.[<sup>14</sup>](http://www.philipkalinda.com/ds3.html)"
   ]
  },
  {
   "cell_type": "code",
   "execution_count": 27,
   "metadata": {},
   "outputs": [
    {
     "data": {
      "text/html": [
       "<div>\n",
       "<style scoped>\n",
       "    .dataframe tbody tr th:only-of-type {\n",
       "        vertical-align: middle;\n",
       "    }\n",
       "\n",
       "    .dataframe tbody tr th {\n",
       "        vertical-align: top;\n",
       "    }\n",
       "\n",
       "    .dataframe thead th {\n",
       "        text-align: right;\n",
       "    }\n",
       "</style>\n",
       "<table border=\"1\" class=\"dataframe\">\n",
       "  <thead>\n",
       "    <tr style=\"text-align: right;\">\n",
       "      <th>col_0</th>\n",
       "      <th>0</th>\n",
       "      <th>1</th>\n",
       "      <th>2</th>\n",
       "    </tr>\n",
       "    <tr>\n",
       "      <th>species</th>\n",
       "      <th></th>\n",
       "      <th></th>\n",
       "      <th></th>\n",
       "    </tr>\n",
       "  </thead>\n",
       "  <tbody>\n",
       "    <tr>\n",
       "      <th>setosa</th>\n",
       "      <td>0</td>\n",
       "      <td>50</td>\n",
       "      <td>0</td>\n",
       "    </tr>\n",
       "    <tr>\n",
       "      <th>versicolor</th>\n",
       "      <td>2</td>\n",
       "      <td>0</td>\n",
       "      <td>48</td>\n",
       "    </tr>\n",
       "    <tr>\n",
       "      <th>virginica</th>\n",
       "      <td>36</td>\n",
       "      <td>0</td>\n",
       "      <td>14</td>\n",
       "    </tr>\n",
       "  </tbody>\n",
       "</table>\n",
       "</div>"
      ],
      "text/plain": [
       "col_0        0   1   2\n",
       "species               \n",
       "setosa       0  50   0\n",
       "versicolor   2   0  48\n",
       "virginica   36   0  14"
      ]
     },
     "execution_count": 27,
     "metadata": {},
     "output_type": "execute_result"
    }
   ],
   "source": [
    "# Compare original targets and model targets\n",
    "# Adapted from http://www.philipkalinda.com/ds3.html\n",
    "pd.crosstab(iris_df['species'], kmeans.labels_)"
   ]
  },
  {
   "cell_type": "markdown",
   "metadata": {},
   "source": [
    "A large part of this is likely due to the mixture of these species, particularly in terms of sepal measurements. The sepal plot is recreated below with the centroids added.[<sup>15</sup>](https://www.kaggle.com/tonzowonzo/simple-k-means-clustering-on-the-iris-dataset) This demonstrates how close together the centroids for versicolor and virginica are to one another and how the mislabeling could occur. While the majority of data points are correctly clustered, the model is far from perfect. "
   ]
  },
  {
   "cell_type": "code",
   "execution_count": 28,
   "metadata": {},
   "outputs": [
    {
     "name": "stdout",
     "output_type": "stream",
     "text": [
      "Centroids:\n",
      "[[6.85       3.07368421 5.74210526 2.07105263]\n",
      " [5.006      3.428      1.462      0.246     ]\n",
      " [5.9016129  2.7483871  4.39354839 1.43387097]]\n"
     ]
    },
    {
     "data": {
      "image/png": "[encoded data removed]",
      "text/plain": [
       "<Figure size 444.75x360 with 1 Axes>"
      ]
     },
     "metadata": {
      "needs_background": "light"
     },
     "output_type": "display_data"
    }
   ],
   "source": [
    "# Centroids for all data\n",
    "centroids = kmeans.cluster_centers_\n",
    "print(\"Centroids:\")\n",
    "print(centroids)\n",
    "\n",
    "# Adding sepeal centroids to the plot \n",
    "# Adapted from https://www.kaggle.com/tonzowonzo/simple-k-means-clustering-on-the-iris-dataset\n",
    "sns.FacetGrid(iris2, hue = 'species', height=5).map(plt.scatter, 'sepal length (cm)', 'sepal width (cm)').add_legend()\n",
    "plt.scatter(kmeans.cluster_centers_[:, 0], kmeans.cluster_centers_[:, 1], s = 150, c = 'red')\n",
    "plt.show()"
   ]
  },
  {
   "cell_type": "markdown",
   "metadata": {},
   "source": [
    "An array of new values can be passed to this model and return a prediction of what species the measurements may represent. "
   ]
  },
  {
   "cell_type": "code",
   "execution_count": 29,
   "metadata": {},
   "outputs": [
    {
     "name": "stdout",
     "output_type": "stream",
     "text": [
      "Data: [4.9 4.5 2.3 1.4]\n",
      "Prediction: [1]\n",
      "\n",
      "Data: [5.5 2.5 4.3 0.4]\n",
      "Prediction: [2]\n",
      "\n",
      "Data: [6.8 3.5 5.7 2.7]\n",
      "Prediction: [0]\n",
      "\n"
     ]
    }
   ],
   "source": [
    "# New data\n",
    "new_vals = np.array([[4.9 , 4.5 , 2.3, 1.4], \n",
    "              [5.5, 2.5, 4.3, 0.4], \n",
    "              [6.8, 3.5, 5.7, 2.7]])\n",
    "\n",
    "# Passing new data to the model and returning the results\n",
    "for val in new_vals:\n",
    "    print(f\"Data: {val}\")\n",
    "    print(f\"Prediction: {kmeans.predict([val])}\\n\")"
   ]
  },
  {
   "cell_type": "markdown",
   "metadata": {},
   "source": [
    "Below the new values (light blue) for sepal length and width are plotted to show where they fall in relation to their associated centroid (red)."
   ]
  },
  {
   "cell_type": "code",
   "execution_count": 30,
   "metadata": {},
   "outputs": [
    {
     "data": {
      "image/png": "[encoded data removed]",
      "text/plain": [
       "<Figure size 576x432 with 1 Axes>"
      ]
     },
     "metadata": {
      "needs_background": "light"
     },
     "output_type": "display_data"
    }
   ],
   "source": [
    "# Plotting new setosa values \n",
    "\n",
    "# Set figure size\n",
    "plt.figure(figsize=(8, 6))\n",
    "\n",
    "# Select plot type and set x and y values \n",
    "plt.scatter(iris.data[:, 0], iris.data[:, 1], marker='.', c=kmeans.labels_, cmap='plasma', s=200)\n",
    "\n",
    "# Labels\n",
    "plt.xlabel('Sepal length')\n",
    "plt.ylabel('Sepal width')\n",
    "\n",
    "# Title\n",
    "plt.title('Sepal Measurements with New Values', fontsize=14)\n",
    "\n",
    "# Add cluster centroids\n",
    "plt.scatter(kmeans.cluster_centers_[:, 0], kmeans.cluster_centers_[:, 1], s = 150, c = 'red')\n",
    "\n",
    "# Plot new values\n",
    "plt.scatter(new_vals[:, 0], new_vals[:, 1], s = 150, c = 'cyan')\n",
    "\n",
    "#Display plot\n",
    "plt.show()"
   ]
  },
  {
   "cell_type": "markdown",
   "metadata": {},
   "source": [
    "Because of the issues sepal measurements seem to cause, perhaps just using petal measurements will create a more accurate model since these values make the species appear more separable, as demonstrated in the plot below. "
   ]
  },
  {
   "cell_type": "code",
   "execution_count": 31,
   "metadata": {},
   "outputs": [
    {
     "data": {
      "image/png": "[encoded data removed]",
      "text/plain": [
       "<Figure size 444.75x360 with 1 Axes>"
      ]
     },
     "metadata": {
      "needs_background": "light"
     },
     "output_type": "display_data"
    }
   ],
   "source": [
    "# Closer look at scatter plots for petal measurements.\n",
    "sns.FacetGrid(iris_df, hue = 'species', height=5).map(plt.scatter, 'petal length (cm)', 'petal width (cm)').add_legend()\n",
    "plt.show()"
   ]
  },
  {
   "cell_type": "markdown",
   "metadata": {},
   "source": [
    "The petal data is separated and all of the above steps are repeated to make a new KMC model."
   ]
  },
  {
   "cell_type": "code",
   "execution_count": 32,
   "metadata": {},
   "outputs": [
    {
     "data": {
      "text/html": [
       "<div>\n",
       "<style scoped>\n",
       "    .dataframe tbody tr th:only-of-type {\n",
       "        vertical-align: middle;\n",
       "    }\n",
       "\n",
       "    .dataframe tbody tr th {\n",
       "        vertical-align: top;\n",
       "    }\n",
       "\n",
       "    .dataframe thead th {\n",
       "        text-align: right;\n",
       "    }\n",
       "</style>\n",
       "<table border=\"1\" class=\"dataframe\">\n",
       "  <thead>\n",
       "    <tr style=\"text-align: right;\">\n",
       "      <th>col_0</th>\n",
       "      <th>0</th>\n",
       "      <th>1</th>\n",
       "      <th>2</th>\n",
       "    </tr>\n",
       "    <tr>\n",
       "      <th>species</th>\n",
       "      <th></th>\n",
       "      <th></th>\n",
       "      <th></th>\n",
       "    </tr>\n",
       "  </thead>\n",
       "  <tbody>\n",
       "    <tr>\n",
       "      <th>setosa</th>\n",
       "      <td>0</td>\n",
       "      <td>50</td>\n",
       "      <td>0</td>\n",
       "    </tr>\n",
       "    <tr>\n",
       "      <th>versicolor</th>\n",
       "      <td>48</td>\n",
       "      <td>0</td>\n",
       "      <td>2</td>\n",
       "    </tr>\n",
       "    <tr>\n",
       "      <th>virginica</th>\n",
       "      <td>4</td>\n",
       "      <td>0</td>\n",
       "      <td>46</td>\n",
       "    </tr>\n",
       "  </tbody>\n",
       "</table>\n",
       "</div>"
      ],
      "text/plain": [
       "col_0        0   1   2\n",
       "species               \n",
       "setosa       0  50   0\n",
       "versicolor  48   0   2\n",
       "virginica    4   0  46"
      ]
     },
     "execution_count": 32,
     "metadata": {},
     "output_type": "execute_result"
    }
   ],
   "source": [
    "# Separating petal data\n",
    "petal_data = X[:, 2:]\n",
    "\n",
    "# Create model object\n",
    "kmeans2 = skcl.KMeans(n_clusters=3)\n",
    "\n",
    "# Fit model to petal data\n",
    "kmeans2.fit(petal_data)\n",
    "\n",
    "# Compare original labels to the model predictions \n",
    "pd.crosstab(iris_df['species'], kmeans2.labels_)"
   ]
  },
  {
   "cell_type": "markdown",
   "metadata": {},
   "source": [
    "This model seems more accurate with just a small handful of data points being mislabeled. The plots below show the original petal data labels versus those predicted by the model and there is very little difference between them.[<sup>16</sup>](https://medium.com/@belen.sanchez27/predicting-iris-flower-species-with-k-means-clustering-in-python-f6e46806aaee)"
   ]
  },
  {
   "cell_type": "code",
   "execution_count": 33,
   "metadata": {},
   "outputs": [
    {
     "data": {
      "image/png": "[encoded data removed]",
      "text/plain": [
       "<Figure size 864x432 with 2 Axes>"
      ]
     },
     "metadata": {
      "needs_background": "light"
     },
     "output_type": "display_data"
    }
   ],
   "source": [
    "# Plotting adapted from\n",
    "# https://medium.com/@belen.sanchez27/predicting-iris-flower-species-with-k-means-clustering-in-python-f6e46806aaee\n",
    "\n",
    "# Create two plots\n",
    "fig, axes = plt.subplots(1, 2, figsize=(12,6))\n",
    "\n",
    "# Select plot type and data - colour according to target and labels\n",
    "axes[0].scatter(petal_data[:, 0], petal_data[:, 1], marker= '.', c=iris.target, cmap='plasma', s=200)\n",
    "axes[1].scatter(petal_data[:, 0], petal_data[:, 1], marker='.', c=kmeans2.labels_, cmap='plasma', s=200)\n",
    "\n",
    "# Labels\n",
    "axes[0].set_xlabel('Petal length')\n",
    "axes[0].set_ylabel('Petal width')\n",
    "axes[1].set_xlabel('Petal length')\n",
    "axes[1].set_ylabel('Petal width')\n",
    "\n",
    "# Titles\n",
    "axes[0].set_title('Actual Target Values', fontsize=14)\n",
    "axes[1].set_title('Predicted Target Values', fontsize=14)\n",
    "\n",
    "# Add centroids to predicted data\n",
    "plt.scatter(kmeans2.cluster_centers_[:, 0], kmeans2.cluster_centers_[:, 1], s = 150, c = 'red')\n",
    "\n",
    "#Display plot\n",
    "plt.show()"
   ]
  },
  {
   "cell_type": "markdown",
   "metadata": {},
   "source": [
    "Because KMC does not use the data set labels to train the model, traditional sklearn metrics such as accuracy_score will not be useful.[<sup>17</sup>](https://towardsdatascience.com/k-means-clustering-algorithm-applications-evaluation-methods-and-drawbacks-aa03e644b48a) Evaluation of the accuracy of the model depends less on calculated metrics and more on interpretation[<sup>18<sup>](https://medium.com/@belen.sanchez27/predicting-iris-flower-species-with-k-means-clustering-in-python-f6e46806aaee) but there are some metrics that can help to evaluate the model such as the silhouette score. This measures how separated the clusters are as well as their density[<sup>19</sup>](https://dzone.com/articles/kmeans-silhouette-score-explained-with-python-exam) This test is implemented below for both models created above."
   ]
  },
  {
   "cell_type": "code",
   "execution_count": 34,
   "metadata": {},
   "outputs": [
    {
     "name": "stdout",
     "output_type": "stream",
     "text": [
      "Silhouette score for all data:\n",
      "0.5528190123564091\n",
      "\n",
      "Silhouette score for all data:\n",
      "0.5221721385945108\n"
     ]
    }
   ],
   "source": [
    "from sklearn.metrics import silhouette_score\n",
    "\n",
    "# All data\n",
    "print(\"Silhouette score for all data:\")\n",
    "print(silhouette_score(X, kmeans.labels_))\n",
    "\n",
    "# Petal data\n",
    "print(\"\\nSilhouette score for all data:\")\n",
    "print(silhouette_score(X, kmeans2.labels_))"
   ]
  },
  {
   "cell_type": "markdown",
   "metadata": {},
   "source": [
    "The closer the value is to 1, the more dense and well-separated the clusters are. The scores above are very similar, with the score for the whole data set being slightly closer to 1, indicating little difference between the model clusters in this case. Despite this, the second model was more accurate in terms of correctly labeling the data. However, KMC is generally used to find patterns in raw data, not data that already has labels such as the Iris data set[<sup>20</sup>](https://www.freecodecamp.org/news/how-to-build-and-train-k-nearest-neighbors-ml-models-in-python/) and so perhaps a supervised machine learning algorithm might be more suitable to build a predictive model for this data."
   ]
  },
  {
   "cell_type": "markdown",
   "metadata": {},
   "source": [
    "### Addendum:\n",
    "\n",
    "Per email received 16/12/20, the task should have been to run K-Nearest Neighbors (KNN) rather than K-Means Clustering on the Iris Dataset. The task was already completed at this stage and so has not been altered but I refer to my previous attempt to apply KNN.[<sup>21</sup>](https://github.com/jennifer-ryan/iris-data-set-project)"
   ]
  },
  {
   "cell_type": "markdown",
   "metadata": {},
   "source": [
    "## References\n",
    "\n",
    "1. Creating iris dataframe with target number and species name adapted from: http://www.philipkalinda.com/ds3.html\n",
    "2. KMC definition: https://en.wikipedia.org/wiki/K-means_clustering\n",
    "3. How KMC works: https://towardsdatascience.com/how-does-k-means-clustering-in-machine-learning-work-fdaaaf5acfa0\n",
    "4. k-means++: https://en.wikipedia.org/wiki/K-means%2B%2B\n",
    "5. Default initialisation in sklearn KMC: https://scikit-learn.org/stable/modules/generated/sklearn.cluster.KMeans.html\n",
    "6. Number of iterations: https://realpython.com/k-means-clustering-python/\n",
    "7. Inertia in KMC: https://scikit-learn.org/stable/modules/clustering.html\n",
    "8. Splitting the data: https://medium.com/@belen.sanchez27/predicting-iris-flower-species-with-k-means-clustering-in-python-f6e46806aaee\n",
    "9. Previous iris data set analysis by author: https://github.com/jennifer-ryan/iris-data-set-project\n",
    "10. No need for train/test split: https://www.freecodecamp.org/news/how-to-build-and-train-k-nearest-neighbors-ml-models-in-python/\n",
    "11. Optimal number of clusters: https://realpython.com/k-means-clustering-python/\n",
    "12. Elbow Method adapted from: https://heartbeat.fritz.ai/k-means-clustering-using-sklearn-and-python-4a054d67b187\n",
    "13. Diminishing returns of increasing k value: https://stackoverflow.com/a/41525972\n",
    "14. Cross-tabulation adapted from: http://www.philipkalinda.com/ds3.html\n",
    "15. Adding centroids to plots adapted from: https://www.kaggle.com/tonzowonzo/simple-k-means-clustering-on-the-iris-dataset\n",
    "16. Side-by-side plots adapted from: https://medium.com/@belen.sanchez27/predicting-iris-flower-species-with-k-means-clustering-in-python-f6e46806aaee\n",
    "17. Traditional metrics and KMC: https://towardsdatascience.com/k-means-clustering-algorithm-applications-evaluation-methods-and-drawbacks-aa03e644b48a\n",
    "18. Evaluating KMC accuracy: https://medium.com/@belen.sanchez27/predicting-iris-flower-species-with-k-means-clustering-in-python-f6e46806aaee\n",
    "19. Silhouette Score: https://dzone.com/articles/kmeans-silhouette-score-explained-with-python-exam\n",
    "20. KMC used for raw data rather than labeled: https://www.freecodecamp.org/news/how-to-build-and-train-k-nearest-neighbors-ml-models-in-python/\n",
    "21. Addendum - previous attempt at KNN: https://github.com/jennifer-ryan/iris-data-set-project"
   ]
  }
 ],
 "metadata": {
  "kernelspec": {
   "display_name": "Python 3",
   "language": "python",
   "name": "python3"
  },
  "language_info": {
   "codemirror_mode": {
    "name": "ipython",
    "version": 3
   },
   "file_extension": ".py",
   "mimetype": "text/x-python",
   "name": "python",
   "nbconvert_exporter": "python",
   "pygments_lexer": "ipython3",
   "version": "3.8.3"
  },
  "toc": {
   "base_numbering": "",
   "nav_menu": {},
   "number_sections": false,
   "sideBar": false,
   "skip_h1_title": false,
   "title_cell": "Table of Contents",
   "title_sidebar": "Contents",
   "toc_cell": false,
   "toc_position": {
    "height": "calc(100% - 180px)",
    "left": "10px",
    "top": "150px",
    "width": "165px"
   },
   "toc_section_display": true,
   "toc_window_display": false
  }
 },
 "nbformat": 4,
 "nbformat_minor": 4
}
